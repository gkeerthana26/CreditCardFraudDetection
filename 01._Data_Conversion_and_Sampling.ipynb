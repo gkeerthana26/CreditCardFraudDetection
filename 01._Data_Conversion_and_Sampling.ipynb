{
 "cells": [
  {
   "cell_type": "markdown",
   "id": "3b760218",
   "metadata": {},
   "source": [
    "# <CENTER><U> 1. IMPORTING BASIC NECESSARY PACKAGES</U></CENTER>"
   ]
  },
  {
   "cell_type": "code",
   "execution_count": 1,
   "id": "f2b8ceec",
   "metadata": {},
   "outputs": [],
   "source": [
    "import matplotlib.pyplot as plt\n",
    "from sklearn.metrics import classification_report,confusion_matrix\n",
    "from __future__ import division\n",
    "from sklearn.cluster import KMeans\n",
    "# Implement learning algorithms"
   ]
  },
  {
   "cell_type": "code",
   "execution_count": 2,
   "id": "49e5c84b",
   "metadata": {},
   "outputs": [],
   "source": [
    "import matplotlib.pyplot as plt\n",
    "%matplotlib inline\n",
    "import pandas as pd\n",
    "import numpy as np"
   ]
  },
  {
   "cell_type": "markdown",
   "id": "8a99ef78",
   "metadata": {},
   "source": [
    "## <CENTER><U> 2. READING INPUT DATA </CENTER></U>`"
   ]
  },
  {
   "cell_type": "markdown",
   "id": "40a04481",
   "metadata": {},
   "source": [
    "### <B><U> Reading from File 1:"
   ]
  },
  {
   "cell_type": "code",
   "execution_count": 3,
   "id": "ea858082",
   "metadata": {},
   "outputs": [
    {
     "data": {
      "text/plain": [
       "trans_date_trans_time    1296675\n",
       "cc_num                   1296675\n",
       "merchant                 1296675\n",
       "category                 1296675\n",
       "amt                      1296675\n",
       "first                    1296675\n",
       "last                     1296675\n",
       "gender                   1296675\n",
       "street                   1296675\n",
       "city                     1296675\n",
       "state                    1296675\n",
       "zip                      1296675\n",
       "lat                      1296675\n",
       "long                     1296675\n",
       "city_pop                 1296675\n",
       "job                      1296675\n",
       "dob                      1296675\n",
       "trans_num                1296675\n",
       "unix_time                1296675\n",
       "merch_lat                1296675\n",
       "merch_long               1296675\n",
       "is_fraud                 1296675\n",
       "dtype: int64"
      ]
     },
     "execution_count": 3,
     "metadata": {},
     "output_type": "execute_result"
    }
   ],
   "source": [
    "fraudtrain = pd.read_csv('fraudTrain.csv')\n",
    "fraudtrain.drop('Unnamed: 0',axis=1,inplace=True)\n",
    "fraudtrain.count()"
   ]
  },
  {
   "cell_type": "code",
   "execution_count": null,
   "id": "c43b8a46",
   "metadata": {},
   "outputs": [],
   "source": []
  },
  {
   "cell_type": "markdown",
   "id": "8237ad4a",
   "metadata": {},
   "source": [
    "### <B><U> Reading from File 2:"
   ]
  },
  {
   "cell_type": "code",
   "execution_count": 4,
   "id": "b92c2a6e",
   "metadata": {
    "scrolled": true
   },
   "outputs": [
    {
     "data": {
      "text/plain": [
       "trans_date_trans_time    555719\n",
       "cc_num                   555719\n",
       "merchant                 555719\n",
       "category                 555719\n",
       "amt                      555719\n",
       "first                    555719\n",
       "last                     555719\n",
       "gender                   555719\n",
       "street                   555719\n",
       "city                     555719\n",
       "state                    555719\n",
       "zip                      555719\n",
       "lat                      555719\n",
       "long                     555719\n",
       "city_pop                 555719\n",
       "job                      555719\n",
       "dob                      555719\n",
       "trans_num                555719\n",
       "unix_time                555719\n",
       "merch_lat                555719\n",
       "merch_long               555719\n",
       "is_fraud                 555719\n",
       "dtype: int64"
      ]
     },
     "execution_count": 4,
     "metadata": {},
     "output_type": "execute_result"
    }
   ],
   "source": [
    "fraudtest = pd.read_csv('fraudTest.csv')\n",
    "fraudtest.drop('Unnamed: 0',axis=1,inplace=True)\n",
    "fraudtest.count()"
   ]
  },
  {
   "cell_type": "code",
   "execution_count": 5,
   "id": "edd4b49a",
   "metadata": {},
   "outputs": [
    {
     "data": {
      "text/plain": [
       "(555719, 22)"
      ]
     },
     "execution_count": 5,
     "metadata": {},
     "output_type": "execute_result"
    }
   ],
   "source": [
    "fraudtest.shape"
   ]
  },
  {
   "cell_type": "code",
   "execution_count": 6,
   "id": "ea4fbed4",
   "metadata": {},
   "outputs": [
    {
     "data": {
      "text/plain": [
       "(1296675, 22)"
      ]
     },
     "execution_count": 6,
     "metadata": {},
     "output_type": "execute_result"
    }
   ],
   "source": [
    "fraudtrain.shape"
   ]
  },
  {
   "cell_type": "markdown",
   "id": "62cdffb9",
   "metadata": {},
   "source": [
    "### <u> Combine both the dataframes into single dataframe</u>"
   ]
  },
  {
   "cell_type": "code",
   "execution_count": 7,
   "id": "ff307eed",
   "metadata": {},
   "outputs": [],
   "source": [
    "frames = [fraudtrain,fraudtest]\n",
    "\n",
    "combined_data = pd.concat(frames)"
   ]
  },
  {
   "cell_type": "code",
   "execution_count": 8,
   "id": "e8a27301",
   "metadata": {
    "scrolled": true
   },
   "outputs": [
    {
     "data": {
      "text/plain": [
       "(1852394, 22)"
      ]
     },
     "execution_count": 8,
     "metadata": {},
     "output_type": "execute_result"
    }
   ],
   "source": [
    "combined_data.shape"
   ]
  },
  {
   "cell_type": "code",
   "execution_count": null,
   "id": "75c4f841",
   "metadata": {},
   "outputs": [],
   "source": [
    "print()"
   ]
  },
  {
   "cell_type": "code",
   "execution_count": null,
   "id": "78a13160",
   "metadata": {},
   "outputs": [],
   "source": []
  },
  {
   "cell_type": "markdown",
   "id": "dadee6a2",
   "metadata": {},
   "source": [
    "### <B><u> Shuffing the dataset and random sampling"
   ]
  },
  {
   "cell_type": "code",
   "execution_count": 9,
   "id": "e529eda9",
   "metadata": {},
   "outputs": [],
   "source": [
    "combined_shuffled = combined_data.sample(frac=1)"
   ]
  },
  {
   "cell_type": "code",
   "execution_count": 10,
   "id": "9fa06219",
   "metadata": {},
   "outputs": [],
   "source": [
    "combined_shuffled = combined_shuffled [~combined_shuffled.index.duplicated (keep='first')]"
   ]
  },
  {
   "cell_type": "code",
   "execution_count": 11,
   "id": "f8e8a463",
   "metadata": {},
   "outputs": [],
   "source": [
    "fraud_data=combined_shuffled.sample(n=300000)"
   ]
  },
  {
   "cell_type": "code",
   "execution_count": 12,
   "id": "33a8b613",
   "metadata": {},
   "outputs": [
    {
     "data": {
      "text/plain": [
       "(300000, 22)"
      ]
     },
     "execution_count": 12,
     "metadata": {},
     "output_type": "execute_result"
    }
   ],
   "source": [
    "fraud_data.shape"
   ]
  },
  {
   "cell_type": "code",
   "execution_count": 13,
   "id": "37add990",
   "metadata": {},
   "outputs": [
    {
     "data": {
      "text/plain": [
       "trans_date_trans_time     object\n",
       "cc_num                   float64\n",
       "merchant                  object\n",
       "category                  object\n",
       "amt                      float64\n",
       "first                     object\n",
       "last                      object\n",
       "gender                    object\n",
       "street                    object\n",
       "city                      object\n",
       "state                     object\n",
       "zip                        int64\n",
       "lat                      float64\n",
       "long                     float64\n",
       "city_pop                   int64\n",
       "job                       object\n",
       "dob                       object\n",
       "trans_num                 object\n",
       "unix_time                  int64\n",
       "merch_lat                float64\n",
       "merch_long               float64\n",
       "is_fraud                   int64\n",
       "dtype: object"
      ]
     },
     "execution_count": 13,
     "metadata": {},
     "output_type": "execute_result"
    }
   ],
   "source": [
    "fraud_data.dtypes"
   ]
  },
  {
   "cell_type": "markdown",
   "id": "2e665bde",
   "metadata": {},
   "source": [
    "\n",
    "## <CENTER><U> 3. DATA TRANSFORMATIONS</CENTER></U>"
   ]
  },
  {
   "cell_type": "markdown",
   "id": "704a8f35",
   "metadata": {},
   "source": [
    "### <B><u> Handling nulls:"
   ]
  },
  {
   "cell_type": "code",
   "execution_count": 14,
   "id": "e9c96236",
   "metadata": {},
   "outputs": [
    {
     "data": {
      "text/plain": [
       "trans_date_trans_time    0\n",
       "cc_num                   0\n",
       "merchant                 0\n",
       "category                 0\n",
       "amt                      0\n",
       "first                    0\n",
       "last                     0\n",
       "gender                   0\n",
       "street                   0\n",
       "city                     0\n",
       "state                    0\n",
       "zip                      0\n",
       "lat                      0\n",
       "long                     0\n",
       "city_pop                 0\n",
       "job                      0\n",
       "dob                      0\n",
       "trans_num                0\n",
       "unix_time                0\n",
       "merch_lat                0\n",
       "merch_long               0\n",
       "is_fraud                 0\n",
       "dtype: int64"
      ]
     },
     "execution_count": 14,
     "metadata": {},
     "output_type": "execute_result"
    }
   ],
   "source": [
    "fraud_data.isna().sum()"
   ]
  },
  {
   "cell_type": "markdown",
   "id": "1646e183",
   "metadata": {},
   "source": [
    "Since the field doesnt have any null values, we shall procedd to next step which is duplicate check."
   ]
  },
  {
   "cell_type": "markdown",
   "id": "4496ddd3",
   "metadata": {},
   "source": [
    "### <b><u>Handling Duplicates:"
   ]
  },
  {
   "cell_type": "code",
   "execution_count": 15,
   "id": "303a06e4",
   "metadata": {},
   "outputs": [
    {
     "name": "stdout",
     "output_type": "stream",
     "text": [
      "There are 0 duplicated rows\n"
     ]
    }
   ],
   "source": [
    "#checking duplicates\n",
    "print(f\"There are {fraud_data.duplicated().sum()} duplicated rows\")"
   ]
  },
  {
   "cell_type": "markdown",
   "id": "25d336c8",
   "metadata": {},
   "source": [
    "Since the dataset doesnt have any redundancy, no rows will be dropped."
   ]
  },
  {
   "cell_type": "code",
   "execution_count": 16,
   "id": "490d5e6c",
   "metadata": {},
   "outputs": [
    {
     "data": {
      "text/html": [
       "<div>\n",
       "<style scoped>\n",
       "    .dataframe tbody tr th:only-of-type {\n",
       "        vertical-align: middle;\n",
       "    }\n",
       "\n",
       "    .dataframe tbody tr th {\n",
       "        vertical-align: top;\n",
       "    }\n",
       "\n",
       "    .dataframe thead th {\n",
       "        text-align: right;\n",
       "    }\n",
       "</style>\n",
       "<table border=\"1\" class=\"dataframe\">\n",
       "  <thead>\n",
       "    <tr style=\"text-align: right;\">\n",
       "      <th></th>\n",
       "      <th>trans_date_trans_time</th>\n",
       "      <th>cc_num</th>\n",
       "      <th>merchant</th>\n",
       "      <th>category</th>\n",
       "      <th>amt</th>\n",
       "      <th>first</th>\n",
       "      <th>last</th>\n",
       "      <th>gender</th>\n",
       "      <th>street</th>\n",
       "      <th>city</th>\n",
       "      <th>...</th>\n",
       "      <th>lat</th>\n",
       "      <th>long</th>\n",
       "      <th>city_pop</th>\n",
       "      <th>job</th>\n",
       "      <th>dob</th>\n",
       "      <th>trans_num</th>\n",
       "      <th>unix_time</th>\n",
       "      <th>merch_lat</th>\n",
       "      <th>merch_long</th>\n",
       "      <th>is_fraud</th>\n",
       "    </tr>\n",
       "  </thead>\n",
       "  <tbody>\n",
       "    <tr>\n",
       "      <th>518672</th>\n",
       "      <td>12/23/2020 8:25</td>\n",
       "      <td>4.470000e+15</td>\n",
       "      <td>fraud_Kilback LLC</td>\n",
       "      <td>grocery_pos</td>\n",
       "      <td>167.42</td>\n",
       "      <td>Matthew</td>\n",
       "      <td>Russell</td>\n",
       "      <td>M</td>\n",
       "      <td>168 Michael Coves Suite 343</td>\n",
       "      <td>June Lake</td>\n",
       "      <td>...</td>\n",
       "      <td>37.7773</td>\n",
       "      <td>-119.0825</td>\n",
       "      <td>633</td>\n",
       "      <td>Health service manager</td>\n",
       "      <td>9/9/1927</td>\n",
       "      <td>8c1e3a9480e34876c75af5b1b533e53e</td>\n",
       "      <td>1387787153</td>\n",
       "      <td>38.492626</td>\n",
       "      <td>-118.677235</td>\n",
       "      <td>0</td>\n",
       "    </tr>\n",
       "    <tr>\n",
       "      <th>1103482</th>\n",
       "      <td>2020-04-04 11:57:59</td>\n",
       "      <td>2.233883e+15</td>\n",
       "      <td>fraud_Huels-Hahn</td>\n",
       "      <td>gas_transport</td>\n",
       "      <td>46.91</td>\n",
       "      <td>Jamie</td>\n",
       "      <td>Robinson</td>\n",
       "      <td>F</td>\n",
       "      <td>67089 Caitlin Meadow Apt. 905</td>\n",
       "      <td>Sturgis</td>\n",
       "      <td>...</td>\n",
       "      <td>33.3570</td>\n",
       "      <td>-89.0473</td>\n",
       "      <td>1923</td>\n",
       "      <td>Medical physicist</td>\n",
       "      <td>1960-01-16</td>\n",
       "      <td>42f7a414a3fea93f52df911719625a00</td>\n",
       "      <td>1365076679</td>\n",
       "      <td>33.193352</td>\n",
       "      <td>-90.017058</td>\n",
       "      <td>0</td>\n",
       "    </tr>\n",
       "    <tr>\n",
       "      <th>777216</th>\n",
       "      <td>2019-11-29 10:12:42</td>\n",
       "      <td>6.759099e+11</td>\n",
       "      <td>fraud_Watsica, Haag and Considine</td>\n",
       "      <td>shopping_pos</td>\n",
       "      <td>8.46</td>\n",
       "      <td>Christopher</td>\n",
       "      <td>Henry</td>\n",
       "      <td>M</td>\n",
       "      <td>1198 Robert Stravenue Apt. 479</td>\n",
       "      <td>Armonk</td>\n",
       "      <td>...</td>\n",
       "      <td>41.1360</td>\n",
       "      <td>-73.7009</td>\n",
       "      <td>7987</td>\n",
       "      <td>Television/film/video producer</td>\n",
       "      <td>1964-03-16</td>\n",
       "      <td>3070934ee3fb99b3bcd65be2f7dda261</td>\n",
       "      <td>1354183962</td>\n",
       "      <td>41.493080</td>\n",
       "      <td>-74.290518</td>\n",
       "      <td>0</td>\n",
       "    </tr>\n",
       "    <tr>\n",
       "      <th>698728</th>\n",
       "      <td>2019-10-25 18:35:11</td>\n",
       "      <td>3.770267e+14</td>\n",
       "      <td>fraud_Gerhold LLC</td>\n",
       "      <td>home</td>\n",
       "      <td>112.71</td>\n",
       "      <td>Jackie</td>\n",
       "      <td>Davis</td>\n",
       "      <td>F</td>\n",
       "      <td>1898 Parker Fork Apt. 057</td>\n",
       "      <td>Redford</td>\n",
       "      <td>...</td>\n",
       "      <td>37.3272</td>\n",
       "      <td>-91.0243</td>\n",
       "      <td>241</td>\n",
       "      <td>Investment analyst</td>\n",
       "      <td>1974-10-27</td>\n",
       "      <td>430986c6f1a78c45b42cef37c35b5dfe</td>\n",
       "      <td>1351190111</td>\n",
       "      <td>36.342555</td>\n",
       "      <td>-91.407343</td>\n",
       "      <td>0</td>\n",
       "    </tr>\n",
       "    <tr>\n",
       "      <th>945306</th>\n",
       "      <td>2020-01-12 22:52:03</td>\n",
       "      <td>4.585133e+12</td>\n",
       "      <td>fraud_Durgan, Gislason and Spencer</td>\n",
       "      <td>home</td>\n",
       "      <td>56.41</td>\n",
       "      <td>Karen</td>\n",
       "      <td>Gordon</td>\n",
       "      <td>F</td>\n",
       "      <td>543 Ware Path Apt. 593</td>\n",
       "      <td>Utica</td>\n",
       "      <td>...</td>\n",
       "      <td>39.7417</td>\n",
       "      <td>-93.6289</td>\n",
       "      <td>271</td>\n",
       "      <td>Land/geomatics surveyor</td>\n",
       "      <td>1972-04-18</td>\n",
       "      <td>f3c652aa1f6bf58e2109e29631569d66</td>\n",
       "      <td>1358031123</td>\n",
       "      <td>39.435902</td>\n",
       "      <td>-93.064931</td>\n",
       "      <td>0</td>\n",
       "    </tr>\n",
       "  </tbody>\n",
       "</table>\n",
       "<p>5 rows × 22 columns</p>\n",
       "</div>"
      ],
      "text/plain": [
       "        trans_date_trans_time        cc_num  \\\n",
       "518672        12/23/2020 8:25  4.470000e+15   \n",
       "1103482   2020-04-04 11:57:59  2.233883e+15   \n",
       "777216    2019-11-29 10:12:42  6.759099e+11   \n",
       "698728    2019-10-25 18:35:11  3.770267e+14   \n",
       "945306    2020-01-12 22:52:03  4.585133e+12   \n",
       "\n",
       "                                   merchant       category     amt  \\\n",
       "518672                    fraud_Kilback LLC    grocery_pos  167.42   \n",
       "1103482                    fraud_Huels-Hahn  gas_transport   46.91   \n",
       "777216    fraud_Watsica, Haag and Considine   shopping_pos    8.46   \n",
       "698728                    fraud_Gerhold LLC           home  112.71   \n",
       "945306   fraud_Durgan, Gislason and Spencer           home   56.41   \n",
       "\n",
       "               first      last gender                          street  \\\n",
       "518672       Matthew   Russell      M     168 Michael Coves Suite 343   \n",
       "1103482        Jamie  Robinson      F   67089 Caitlin Meadow Apt. 905   \n",
       "777216   Christopher     Henry      M  1198 Robert Stravenue Apt. 479   \n",
       "698728        Jackie     Davis      F       1898 Parker Fork Apt. 057   \n",
       "945306         Karen    Gordon      F          543 Ware Path Apt. 593   \n",
       "\n",
       "              city  ...      lat      long  city_pop  \\\n",
       "518672   June Lake  ...  37.7773 -119.0825       633   \n",
       "1103482    Sturgis  ...  33.3570  -89.0473      1923   \n",
       "777216      Armonk  ...  41.1360  -73.7009      7987   \n",
       "698728     Redford  ...  37.3272  -91.0243       241   \n",
       "945306       Utica  ...  39.7417  -93.6289       271   \n",
       "\n",
       "                                    job         dob  \\\n",
       "518672           Health service manager    9/9/1927   \n",
       "1103482               Medical physicist  1960-01-16   \n",
       "777216   Television/film/video producer  1964-03-16   \n",
       "698728               Investment analyst  1974-10-27   \n",
       "945306          Land/geomatics surveyor  1972-04-18   \n",
       "\n",
       "                                trans_num   unix_time  merch_lat  merch_long  \\\n",
       "518672   8c1e3a9480e34876c75af5b1b533e53e  1387787153  38.492626 -118.677235   \n",
       "1103482  42f7a414a3fea93f52df911719625a00  1365076679  33.193352  -90.017058   \n",
       "777216   3070934ee3fb99b3bcd65be2f7dda261  1354183962  41.493080  -74.290518   \n",
       "698728   430986c6f1a78c45b42cef37c35b5dfe  1351190111  36.342555  -91.407343   \n",
       "945306   f3c652aa1f6bf58e2109e29631569d66  1358031123  39.435902  -93.064931   \n",
       "\n",
       "         is_fraud  \n",
       "518672          0  \n",
       "1103482         0  \n",
       "777216          0  \n",
       "698728          0  \n",
       "945306          0  \n",
       "\n",
       "[5 rows x 22 columns]"
      ]
     },
     "execution_count": 16,
     "metadata": {},
     "output_type": "execute_result"
    }
   ],
   "source": [
    "fraud_data.head()"
   ]
  },
  {
   "cell_type": "code",
   "execution_count": 17,
   "id": "0e1795f0",
   "metadata": {},
   "outputs": [
    {
     "data": {
      "text/plain": [
       "trans_date_trans_time    300000\n",
       "cc_num                   300000\n",
       "merchant                 300000\n",
       "category                 300000\n",
       "amt                      300000\n",
       "first                    300000\n",
       "last                     300000\n",
       "gender                   300000\n",
       "street                   300000\n",
       "city                     300000\n",
       "state                    300000\n",
       "zip                      300000\n",
       "lat                      300000\n",
       "long                     300000\n",
       "city_pop                 300000\n",
       "job                      300000\n",
       "dob                      300000\n",
       "trans_num                300000\n",
       "unix_time                300000\n",
       "merch_lat                300000\n",
       "merch_long               300000\n",
       "is_fraud                 300000\n",
       "dtype: int64"
      ]
     },
     "execution_count": 17,
     "metadata": {},
     "output_type": "execute_result"
    }
   ],
   "source": [
    "fraud_data.count()"
   ]
  },
  {
   "cell_type": "markdown",
   "id": "85951169",
   "metadata": {},
   "source": [
    "#### <B><U> EXPORT TO CSV:"
   ]
  },
  {
   "cell_type": "code",
   "execution_count": 18,
   "id": "15d7a63f",
   "metadata": {},
   "outputs": [],
   "source": [
    "fraud_data.to_csv('Data_Processing/FraudData_RandomSample.csv')"
   ]
  }
 ],
 "metadata": {
  "kernelspec": {
   "display_name": "Python 3 (ipykernel)",
   "language": "python",
   "name": "python3"
  },
  "language_info": {
   "codemirror_mode": {
    "name": "ipython",
    "version": 3
   },
   "file_extension": ".py",
   "mimetype": "text/x-python",
   "name": "python",
   "nbconvert_exporter": "python",
   "pygments_lexer": "ipython3",
   "version": "3.9.7"
  }
 },
 "nbformat": 4,
 "nbformat_minor": 5
}
