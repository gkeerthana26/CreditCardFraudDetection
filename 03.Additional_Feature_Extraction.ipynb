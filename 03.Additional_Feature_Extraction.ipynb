{
 "cells": [
  {
   "cell_type": "markdown",
   "id": "3b760218",
   "metadata": {},
   "source": [
    "# <CENTER><U> 1. IMPORTING BASIC NECESSARY PACKAGES</U></CENTER>"
   ]
  },
  {
   "cell_type": "code",
   "execution_count": 1,
   "id": "c67b4c7c",
   "metadata": {
    "scrolled": true
   },
   "outputs": [
    {
     "name": "stdout",
     "output_type": "stream",
     "text": [
      "Requirement already satisfied: pandas_profiling in c:\\users\\gayus\\anaconda3\\lib\\site-packages (3.3.0)\n",
      "Requirement already satisfied: phik<0.13,>=0.11.1 in c:\\users\\gayus\\anaconda3\\lib\\site-packages (from pandas_profiling) (0.12.2)\n",
      "Requirement already satisfied: missingno<0.6,>=0.4.2 in c:\\users\\gayus\\anaconda3\\lib\\site-packages (from pandas_profiling) (0.5.1)\n",
      "Requirement already satisfied: scipy<1.10,>=1.4.1 in c:\\users\\gayus\\anaconda3\\lib\\site-packages (from pandas_profiling) (1.7.1)\n",
      "Requirement already satisfied: jinja2<3.2,>=2.11.1 in c:\\users\\gayus\\anaconda3\\lib\\site-packages (from pandas_profiling) (2.11.3)\n",
      "Requirement already satisfied: tqdm<4.65,>=4.48.2 in c:\\users\\gayus\\anaconda3\\lib\\site-packages (from pandas_profiling) (4.62.3)\n",
      "Requirement already satisfied: visions[type_image_path]==0.7.5 in c:\\users\\gayus\\anaconda3\\lib\\site-packages (from pandas_profiling) (0.7.5)\n",
      "Requirement already satisfied: matplotlib<3.6,>=3.2 in c:\\users\\gayus\\anaconda3\\lib\\site-packages (from pandas_profiling) (3.4.3)\n",
      "Requirement already satisfied: numpy<1.24,>=1.16.0 in c:\\users\\gayus\\anaconda3\\lib\\site-packages (from pandas_profiling) (1.20.3)\n",
      "Requirement already satisfied: PyYAML<6.1,>=5.0.0 in c:\\users\\gayus\\anaconda3\\lib\\site-packages (from pandas_profiling) (6.0)\n",
      "Requirement already satisfied: joblib~=1.1.0 in c:\\users\\gayus\\anaconda3\\lib\\site-packages (from pandas_profiling) (1.1.0)\n",
      "Requirement already satisfied: htmlmin==0.1.12 in c:\\users\\gayus\\anaconda3\\lib\\site-packages (from pandas_profiling) (0.1.12)\n",
      "Requirement already satisfied: pandas!=1.4.0,<1.5,>1.1 in c:\\users\\gayus\\anaconda3\\lib\\site-packages (from pandas_profiling) (1.3.4)\n",
      "Requirement already satisfied: requests<2.29,>=2.24.0 in c:\\users\\gayus\\anaconda3\\lib\\site-packages (from pandas_profiling) (2.26.0)\n",
      "Requirement already satisfied: seaborn<0.12,>=0.10.1 in c:\\users\\gayus\\anaconda3\\lib\\site-packages (from pandas_profiling) (0.11.2)\n",
      "Requirement already satisfied: statsmodels<0.14,>=0.13.2 in c:\\users\\gayus\\anaconda3\\lib\\site-packages (from pandas_profiling) (0.13.2)\n",
      "Requirement already satisfied: multimethod<1.9,>=1.4 in c:\\users\\gayus\\anaconda3\\lib\\site-packages (from pandas_profiling) (1.8)\n",
      "Requirement already satisfied: pydantic<1.10,>=1.8.1 in c:\\users\\gayus\\anaconda3\\lib\\site-packages (from pandas_profiling) (1.9.2)\n",
      "Requirement already satisfied: tangled-up-in-unicode==0.2.0 in c:\\users\\gayus\\anaconda3\\lib\\site-packages (from pandas_profiling) (0.2.0)\n",
      "Requirement already satisfied: networkx>=2.4 in c:\\users\\gayus\\anaconda3\\lib\\site-packages (from visions[type_image_path]==0.7.5->pandas_profiling) (2.6.3)\n",
      "Requirement already satisfied: attrs>=19.3.0 in c:\\users\\gayus\\anaconda3\\lib\\site-packages (from visions[type_image_path]==0.7.5->pandas_profiling) (21.2.0)\n",
      "Requirement already satisfied: Pillow in c:\\users\\gayus\\anaconda3\\lib\\site-packages (from visions[type_image_path]==0.7.5->pandas_profiling) (8.4.0)\n",
      "Requirement already satisfied: imagehash in c:\\users\\gayus\\anaconda3\\lib\\site-packages (from visions[type_image_path]==0.7.5->pandas_profiling) (4.3.1)\n",
      "Requirement already satisfied: MarkupSafe>=0.23 in c:\\users\\gayus\\anaconda3\\lib\\site-packages (from jinja2<3.2,>=2.11.1->pandas_profiling) (1.1.1)\n",
      "Requirement already satisfied: cycler>=0.10 in c:\\users\\gayus\\anaconda3\\lib\\site-packages (from matplotlib<3.6,>=3.2->pandas_profiling) (0.10.0)\n",
      "Requirement already satisfied: python-dateutil>=2.7 in c:\\users\\gayus\\anaconda3\\lib\\site-packages (from matplotlib<3.6,>=3.2->pandas_profiling) (2.8.2)\n",
      "Requirement already satisfied: pyparsing>=2.2.1 in c:\\users\\gayus\\anaconda3\\lib\\site-packages (from matplotlib<3.6,>=3.2->pandas_profiling) (3.0.4)Note: you may need to restart the kernel to use updated packages.\n",
      "Requirement already satisfied: kiwisolver>=1.0.1 in c:\\users\\gayus\\anaconda3\\lib\\site-packages (from matplotlib<3.6,>=3.2->pandas_profiling) (1.3.1)\n",
      "Requirement already satisfied: six in c:\\users\\gayus\\anaconda3\\lib\\site-packages (from cycler>=0.10->matplotlib<3.6,>=3.2->pandas_profiling) (1.16.0)\n",
      "Requirement already satisfied: pytz>=2017.3 in c:\\users\\gayus\\anaconda3\\lib\\site-packages (from pandas!=1.4.0,<1.5,>1.1->pandas_profiling) (2021.3)\n",
      "Requirement already satisfied: typing-extensions>=3.7.4.3 in c:\\users\\gayus\\anaconda3\\lib\\site-packages (from pydantic<1.10,>=1.8.1->pandas_profiling) (3.10.0.2)\n",
      "Requirement already satisfied: idna<4,>=2.5 in c:\\users\\gayus\\anaconda3\\lib\\site-packages (from requests<2.29,>=2.24.0->pandas_profiling) (3.2)\n",
      "Requirement already satisfied: charset-normalizer~=2.0.0 in c:\\users\\gayus\\anaconda3\\lib\\site-packages (from requests<2.29,>=2.24.0->pandas_profiling) (2.0.4)\n",
      "Requirement already satisfied: certifi>=2017.4.17 in c:\\users\\gayus\\anaconda3\\lib\\site-packages (from requests<2.29,>=2.24.0->pandas_profiling) (2021.10.8)\n",
      "Requirement already satisfied: urllib3<1.27,>=1.21.1 in c:\\users\\gayus\\anaconda3\\lib\\site-packages (from requests<2.29,>=2.24.0->pandas_profiling) (1.26.7)\n",
      "Requirement already satisfied: packaging>=21.3 in c:\\users\\gayus\\anaconda3\\lib\\site-packages (from statsmodels<0.14,>=0.13.2->pandas_profiling) (21.3)\n",
      "Requirement already satisfied: patsy>=0.5.2 in c:\\users\\gayus\\anaconda3\\lib\\site-packages (from statsmodels<0.14,>=0.13.2->pandas_profiling) (0.5.2)\n",
      "Requirement already satisfied: colorama in c:\\users\\gayus\\anaconda3\\lib\\site-packages (from tqdm<4.65,>=4.48.2->pandas_profiling) (0.4.4)\n",
      "Requirement already satisfied: PyWavelets in c:\\users\\gayus\\anaconda3\\lib\\site-packages (from imagehash->visions[type_image_path]==0.7.5->pandas_profiling) (1.1.1)\n",
      "\n"
     ]
    }
   ],
   "source": [
    "pip install pandas_profiling"
   ]
  },
  {
   "cell_type": "code",
   "execution_count": 2,
   "id": "f2b8ceec",
   "metadata": {},
   "outputs": [],
   "source": [
    "import matplotlib.pyplot as plt\n",
    "from sklearn.metrics import classification_report,confusion_matrix\n",
    "from __future__ import division\n",
    "from sklearn.cluster import KMeans\n",
    "# Implement learning algorithms\n",
    "from sklearn.linear_model import LogisticRegression\n",
    "from sklearn.svm import LinearSVC, SVC\n",
    "from sklearn.ensemble import RandomForestClassifier\n",
    "from sklearn.tree import DecisionTreeClassifier\n",
    "from sklearn.naive_bayes import GaussianNB\n",
    "from sklearn.metrics import f1_score\n",
    "from sklearn import model_selection as cross_validation\n",
    "from time import time\n",
    "from sklearn.utils import shuffle\n",
    "from sklearn.model_selection import KFold, cross_val_score, train_test_split\n",
    "import xgboost as xgb\n",
    "import xgboost as xgb\n",
    "plt.style.use(\"ggplot\")"
   ]
  },
  {
   "cell_type": "code",
   "execution_count": 3,
   "id": "49e5c84b",
   "metadata": {},
   "outputs": [],
   "source": [
    "import matplotlib.pyplot as plt\n",
    "%matplotlib inline\n",
    "import pandas as pd\n",
    "import numpy as np\n",
    "import seaborn as sns\n",
    "import plotly.express as px\n",
    "import xlrd\n",
    "import lifetimes\n",
    "import datetime\n",
    "import warnings\n",
    "warnings.filterwarnings(\"ignore\")\n",
    "np.random.seed(42)\n",
    "from datetime import datetime, timedelta,date"
   ]
  },
  {
   "cell_type": "code",
   "execution_count": 4,
   "id": "1b5e1aa2",
   "metadata": {},
   "outputs": [],
   "source": [
    "##Dataset Import:\n",
    "from sklearn import datasets\n",
    "from sklearn.datasets import load_iris\n",
    "\n",
    "## Importing Decision Tree Classifier\n",
    "from sklearn.tree import DecisionTreeClassifier\n",
    "\n",
    "##Importing ensemble and ML Models:\n",
    "from sklearn.ensemble import RandomForestClassifier, BaggingClassifier, GradientBoostingClassifier,AdaBoostClassifier\n",
    "from sklearn.ensemble import VotingClassifier\n",
    "from sklearn.linear_model import LogisticRegression\n",
    "from sklearn.svm import SVC\n",
    "\n",
    "\n",
    "import pandas_profiling\n",
    "##Importing sklearn model selection and metrics\n",
    "from sklearn import metrics\n",
    "from sklearn.metrics import confusion_matrix\n",
    "from sklearn.metrics import accuracy_score\n",
    "from sklearn.model_selection import train_test_split\n",
    "from sklearn.model_selection import cross_val_score, cross_val_predict\n",
    "from sklearn.metrics import classification_report"
   ]
  },
  {
   "cell_type": "markdown",
   "id": "8a99ef78",
   "metadata": {},
   "source": [
    "## <CENTER><U> 2. READING DATA </CENTER></U>`"
   ]
  },
  {
   "cell_type": "code",
   "execution_count": 5,
   "id": "99070c6b",
   "metadata": {},
   "outputs": [
    {
     "data": {
      "text/plain": [
       "Unnamed: 0               300000\n",
       "trans_date_trans_time    300000\n",
       "cc_num                   300000\n",
       "merchant                 300000\n",
       "category                 300000\n",
       "amt                      300000\n",
       "first                    300000\n",
       "last                     300000\n",
       "gender                   300000\n",
       "street                   300000\n",
       "city                     300000\n",
       "state                    300000\n",
       "zip                      300000\n",
       "lat                      300000\n",
       "long                     300000\n",
       "city_pop                 300000\n",
       "job                      300000\n",
       "dob                      300000\n",
       "trans_num                300000\n",
       "unix_time                300000\n",
       "merch_lat                300000\n",
       "merch_long               300000\n",
       "is_fraud                 300000\n",
       "dtype: int64"
      ]
     },
     "execution_count": 5,
     "metadata": {},
     "output_type": "execute_result"
    }
   ],
   "source": [
    "fraud_data = pd.read_csv('Data_Processing/FraudData_RandomSample.csv')\n",
    "fraud_data.count()"
   ]
  },
  {
   "cell_type": "code",
   "execution_count": 7,
   "id": "7e660a24",
   "metadata": {},
   "outputs": [
    {
     "data": {
      "text/html": [
       "<div>\n",
       "<style scoped>\n",
       "    .dataframe tbody tr th:only-of-type {\n",
       "        vertical-align: middle;\n",
       "    }\n",
       "\n",
       "    .dataframe tbody tr th {\n",
       "        vertical-align: top;\n",
       "    }\n",
       "\n",
       "    .dataframe thead th {\n",
       "        text-align: right;\n",
       "    }\n",
       "</style>\n",
       "<table border=\"1\" class=\"dataframe\">\n",
       "  <thead>\n",
       "    <tr style=\"text-align: right;\">\n",
       "      <th></th>\n",
       "      <th>Unnamed: 0</th>\n",
       "      <th>trans_date_trans_time</th>\n",
       "      <th>cc_num</th>\n",
       "      <th>merchant</th>\n",
       "      <th>category</th>\n",
       "      <th>amt</th>\n",
       "      <th>first</th>\n",
       "      <th>last</th>\n",
       "      <th>gender</th>\n",
       "      <th>street</th>\n",
       "      <th>...</th>\n",
       "      <th>lat</th>\n",
       "      <th>long</th>\n",
       "      <th>city_pop</th>\n",
       "      <th>job</th>\n",
       "      <th>dob</th>\n",
       "      <th>trans_num</th>\n",
       "      <th>unix_time</th>\n",
       "      <th>merch_lat</th>\n",
       "      <th>merch_long</th>\n",
       "      <th>is_fraud</th>\n",
       "    </tr>\n",
       "  </thead>\n",
       "  <tbody>\n",
       "    <tr>\n",
       "      <th>0</th>\n",
       "      <td>518672</td>\n",
       "      <td>12/23/2020 8:25</td>\n",
       "      <td>4.470000e+15</td>\n",
       "      <td>fraud_Kilback LLC</td>\n",
       "      <td>grocery_pos</td>\n",
       "      <td>167.42</td>\n",
       "      <td>Matthew</td>\n",
       "      <td>Russell</td>\n",
       "      <td>M</td>\n",
       "      <td>168 Michael Coves Suite 343</td>\n",
       "      <td>...</td>\n",
       "      <td>37.7773</td>\n",
       "      <td>-119.0825</td>\n",
       "      <td>633</td>\n",
       "      <td>Health service manager</td>\n",
       "      <td>9/9/1927</td>\n",
       "      <td>8c1e3a9480e34876c75af5b1b533e53e</td>\n",
       "      <td>1387787153</td>\n",
       "      <td>38.492626</td>\n",
       "      <td>-118.677235</td>\n",
       "      <td>0</td>\n",
       "    </tr>\n",
       "    <tr>\n",
       "      <th>1</th>\n",
       "      <td>1103482</td>\n",
       "      <td>2020-04-04 11:57:59</td>\n",
       "      <td>2.233883e+15</td>\n",
       "      <td>fraud_Huels-Hahn</td>\n",
       "      <td>gas_transport</td>\n",
       "      <td>46.91</td>\n",
       "      <td>Jamie</td>\n",
       "      <td>Robinson</td>\n",
       "      <td>F</td>\n",
       "      <td>67089 Caitlin Meadow Apt. 905</td>\n",
       "      <td>...</td>\n",
       "      <td>33.3570</td>\n",
       "      <td>-89.0473</td>\n",
       "      <td>1923</td>\n",
       "      <td>Medical physicist</td>\n",
       "      <td>1960-01-16</td>\n",
       "      <td>42f7a414a3fea93f52df911719625a00</td>\n",
       "      <td>1365076679</td>\n",
       "      <td>33.193352</td>\n",
       "      <td>-90.017058</td>\n",
       "      <td>0</td>\n",
       "    </tr>\n",
       "    <tr>\n",
       "      <th>2</th>\n",
       "      <td>777216</td>\n",
       "      <td>2019-11-29 10:12:42</td>\n",
       "      <td>6.759099e+11</td>\n",
       "      <td>fraud_Watsica, Haag and Considine</td>\n",
       "      <td>shopping_pos</td>\n",
       "      <td>8.46</td>\n",
       "      <td>Christopher</td>\n",
       "      <td>Henry</td>\n",
       "      <td>M</td>\n",
       "      <td>1198 Robert Stravenue Apt. 479</td>\n",
       "      <td>...</td>\n",
       "      <td>41.1360</td>\n",
       "      <td>-73.7009</td>\n",
       "      <td>7987</td>\n",
       "      <td>Television/film/video producer</td>\n",
       "      <td>1964-03-16</td>\n",
       "      <td>3070934ee3fb99b3bcd65be2f7dda261</td>\n",
       "      <td>1354183962</td>\n",
       "      <td>41.493080</td>\n",
       "      <td>-74.290518</td>\n",
       "      <td>0</td>\n",
       "    </tr>\n",
       "    <tr>\n",
       "      <th>3</th>\n",
       "      <td>698728</td>\n",
       "      <td>2019-10-25 18:35:11</td>\n",
       "      <td>3.770267e+14</td>\n",
       "      <td>fraud_Gerhold LLC</td>\n",
       "      <td>home</td>\n",
       "      <td>112.71</td>\n",
       "      <td>Jackie</td>\n",
       "      <td>Davis</td>\n",
       "      <td>F</td>\n",
       "      <td>1898 Parker Fork Apt. 057</td>\n",
       "      <td>...</td>\n",
       "      <td>37.3272</td>\n",
       "      <td>-91.0243</td>\n",
       "      <td>241</td>\n",
       "      <td>Investment analyst</td>\n",
       "      <td>1974-10-27</td>\n",
       "      <td>430986c6f1a78c45b42cef37c35b5dfe</td>\n",
       "      <td>1351190111</td>\n",
       "      <td>36.342555</td>\n",
       "      <td>-91.407343</td>\n",
       "      <td>0</td>\n",
       "    </tr>\n",
       "    <tr>\n",
       "      <th>4</th>\n",
       "      <td>945306</td>\n",
       "      <td>2020-01-12 22:52:03</td>\n",
       "      <td>4.585133e+12</td>\n",
       "      <td>fraud_Durgan, Gislason and Spencer</td>\n",
       "      <td>home</td>\n",
       "      <td>56.41</td>\n",
       "      <td>Karen</td>\n",
       "      <td>Gordon</td>\n",
       "      <td>F</td>\n",
       "      <td>543 Ware Path Apt. 593</td>\n",
       "      <td>...</td>\n",
       "      <td>39.7417</td>\n",
       "      <td>-93.6289</td>\n",
       "      <td>271</td>\n",
       "      <td>Land/geomatics surveyor</td>\n",
       "      <td>1972-04-18</td>\n",
       "      <td>f3c652aa1f6bf58e2109e29631569d66</td>\n",
       "      <td>1358031123</td>\n",
       "      <td>39.435902</td>\n",
       "      <td>-93.064931</td>\n",
       "      <td>0</td>\n",
       "    </tr>\n",
       "  </tbody>\n",
       "</table>\n",
       "<p>5 rows × 23 columns</p>\n",
       "</div>"
      ],
      "text/plain": [
       "   Unnamed: 0 trans_date_trans_time        cc_num  \\\n",
       "0      518672       12/23/2020 8:25  4.470000e+15   \n",
       "1     1103482   2020-04-04 11:57:59  2.233883e+15   \n",
       "2      777216   2019-11-29 10:12:42  6.759099e+11   \n",
       "3      698728   2019-10-25 18:35:11  3.770267e+14   \n",
       "4      945306   2020-01-12 22:52:03  4.585133e+12   \n",
       "\n",
       "                             merchant       category     amt        first  \\\n",
       "0                   fraud_Kilback LLC    grocery_pos  167.42      Matthew   \n",
       "1                    fraud_Huels-Hahn  gas_transport   46.91        Jamie   \n",
       "2   fraud_Watsica, Haag and Considine   shopping_pos    8.46  Christopher   \n",
       "3                   fraud_Gerhold LLC           home  112.71       Jackie   \n",
       "4  fraud_Durgan, Gislason and Spencer           home   56.41        Karen   \n",
       "\n",
       "       last gender                          street  ...      lat      long  \\\n",
       "0   Russell      M     168 Michael Coves Suite 343  ...  37.7773 -119.0825   \n",
       "1  Robinson      F   67089 Caitlin Meadow Apt. 905  ...  33.3570  -89.0473   \n",
       "2     Henry      M  1198 Robert Stravenue Apt. 479  ...  41.1360  -73.7009   \n",
       "3     Davis      F       1898 Parker Fork Apt. 057  ...  37.3272  -91.0243   \n",
       "4    Gordon      F          543 Ware Path Apt. 593  ...  39.7417  -93.6289   \n",
       "\n",
       "   city_pop                             job         dob  \\\n",
       "0       633          Health service manager    9/9/1927   \n",
       "1      1923               Medical physicist  1960-01-16   \n",
       "2      7987  Television/film/video producer  1964-03-16   \n",
       "3       241              Investment analyst  1974-10-27   \n",
       "4       271         Land/geomatics surveyor  1972-04-18   \n",
       "\n",
       "                          trans_num   unix_time  merch_lat  merch_long  \\\n",
       "0  8c1e3a9480e34876c75af5b1b533e53e  1387787153  38.492626 -118.677235   \n",
       "1  42f7a414a3fea93f52df911719625a00  1365076679  33.193352  -90.017058   \n",
       "2  3070934ee3fb99b3bcd65be2f7dda261  1354183962  41.493080  -74.290518   \n",
       "3  430986c6f1a78c45b42cef37c35b5dfe  1351190111  36.342555  -91.407343   \n",
       "4  f3c652aa1f6bf58e2109e29631569d66  1358031123  39.435902  -93.064931   \n",
       "\n",
       "   is_fraud  \n",
       "0         0  \n",
       "1         0  \n",
       "2         0  \n",
       "3         0  \n",
       "4         0  \n",
       "\n",
       "[5 rows x 23 columns]"
      ]
     },
     "execution_count": 7,
     "metadata": {},
     "output_type": "execute_result"
    }
   ],
   "source": [
    "fraud_data.head()"
   ]
  },
  {
   "cell_type": "markdown",
   "id": "1bdd67d9",
   "metadata": {},
   "source": [
    "## <CENTER><U> 3. FEATURE EXTRACTION</CENTER></U>"
   ]
  },
  {
   "cell_type": "markdown",
   "id": "9b955bcf",
   "metadata": {},
   "source": [
    "### <b><u>Adding AGE column:"
   ]
  },
  {
   "cell_type": "code",
   "execution_count": 8,
   "id": "d511eef8",
   "metadata": {},
   "outputs": [],
   "source": [
    "import datetime as dt\n",
    "fraud_data['age']=dt.date.today().year-pd.to_datetime(fraud_data['dob']).dt.year"
   ]
  },
  {
   "cell_type": "markdown",
   "id": "b86a71d5",
   "metadata": {},
   "source": [
    "### <b><u>Adding HOUR column:"
   ]
  },
  {
   "cell_type": "code",
   "execution_count": 9,
   "id": "3c3dee3b",
   "metadata": {},
   "outputs": [],
   "source": [
    "fraud_data['hour']=pd.to_datetime(fraud_data['trans_date_trans_time']).dt.hour"
   ]
  },
  {
   "cell_type": "markdown",
   "id": "6808ec3e",
   "metadata": {},
   "source": [
    "### <b><u>Adding DAY column:"
   ]
  },
  {
   "cell_type": "code",
   "execution_count": 10,
   "id": "cf623e7a",
   "metadata": {},
   "outputs": [],
   "source": [
    "fraud_data['day']=pd.to_datetime(fraud_data['trans_date_trans_time']).dt.dayofweek"
   ]
  },
  {
   "cell_type": "markdown",
   "id": "aa256d03",
   "metadata": {},
   "source": [
    "### <b><u>Adding MONTH column:"
   ]
  },
  {
   "cell_type": "code",
   "execution_count": 11,
   "id": "581d0e24",
   "metadata": {},
   "outputs": [],
   "source": [
    "fraud_data['month']=pd.to_datetime(fraud_data['trans_date_trans_time']).dt.month"
   ]
  },
  {
   "cell_type": "markdown",
   "id": "52eacaa9",
   "metadata": {},
   "source": [
    "### <b><U> Adding Dummies:"
   ]
  },
  {
   "cell_type": "code",
   "execution_count": 12,
   "id": "5fac9f83",
   "metadata": {},
   "outputs": [],
   "source": [
    "fraud_limited=fraud_data[['category','amt','zip','lat','long','city_pop','merch_lat','merch_long','age','hour','day','month','is_fraud']]\n",
    "#convert category to dummy variables\n",
    "fraud=pd.get_dummies(fraud_limited, drop_first=True)"
   ]
  },
  {
   "cell_type": "code",
   "execution_count": 13,
   "id": "904cb755",
   "metadata": {},
   "outputs": [
    {
     "data": {
      "text/plain": [
       "Index(['amt', 'zip', 'lat', 'long', 'city_pop', 'merch_lat', 'merch_long',\n",
       "       'age', 'hour', 'day', 'month', 'is_fraud', 'category_food_dining',\n",
       "       'category_gas_transport', 'category_grocery_net',\n",
       "       'category_grocery_pos', 'category_health_fitness', 'category_home',\n",
       "       'category_kids_pets', 'category_misc_net', 'category_misc_pos',\n",
       "       'category_personal_care', 'category_shopping_net',\n",
       "       'category_shopping_pos', 'category_travel'],\n",
       "      dtype='object')"
      ]
     },
     "execution_count": 13,
     "metadata": {},
     "output_type": "execute_result"
    }
   ],
   "source": [
    "fraud.columns"
   ]
  },
  {
   "cell_type": "code",
   "execution_count": 14,
   "id": "77468c24",
   "metadata": {},
   "outputs": [
    {
     "data": {
      "text/html": [
       "<div>\n",
       "<style scoped>\n",
       "    .dataframe tbody tr th:only-of-type {\n",
       "        vertical-align: middle;\n",
       "    }\n",
       "\n",
       "    .dataframe tbody tr th {\n",
       "        vertical-align: top;\n",
       "    }\n",
       "\n",
       "    .dataframe thead th {\n",
       "        text-align: right;\n",
       "    }\n",
       "</style>\n",
       "<table border=\"1\" class=\"dataframe\">\n",
       "  <thead>\n",
       "    <tr style=\"text-align: right;\">\n",
       "      <th></th>\n",
       "      <th>amt</th>\n",
       "      <th>zip</th>\n",
       "      <th>lat</th>\n",
       "      <th>long</th>\n",
       "      <th>city_pop</th>\n",
       "      <th>merch_lat</th>\n",
       "      <th>merch_long</th>\n",
       "      <th>age</th>\n",
       "      <th>hour</th>\n",
       "      <th>day</th>\n",
       "      <th>...</th>\n",
       "      <th>category_grocery_pos</th>\n",
       "      <th>category_health_fitness</th>\n",
       "      <th>category_home</th>\n",
       "      <th>category_kids_pets</th>\n",
       "      <th>category_misc_net</th>\n",
       "      <th>category_misc_pos</th>\n",
       "      <th>category_personal_care</th>\n",
       "      <th>category_shopping_net</th>\n",
       "      <th>category_shopping_pos</th>\n",
       "      <th>category_travel</th>\n",
       "    </tr>\n",
       "  </thead>\n",
       "  <tbody>\n",
       "    <tr>\n",
       "      <th>0</th>\n",
       "      <td>167.42</td>\n",
       "      <td>93529</td>\n",
       "      <td>37.7773</td>\n",
       "      <td>-119.0825</td>\n",
       "      <td>633</td>\n",
       "      <td>38.492626</td>\n",
       "      <td>-118.677235</td>\n",
       "      <td>95</td>\n",
       "      <td>8</td>\n",
       "      <td>2</td>\n",
       "      <td>...</td>\n",
       "      <td>1</td>\n",
       "      <td>0</td>\n",
       "      <td>0</td>\n",
       "      <td>0</td>\n",
       "      <td>0</td>\n",
       "      <td>0</td>\n",
       "      <td>0</td>\n",
       "      <td>0</td>\n",
       "      <td>0</td>\n",
       "      <td>0</td>\n",
       "    </tr>\n",
       "    <tr>\n",
       "      <th>1</th>\n",
       "      <td>46.91</td>\n",
       "      <td>39769</td>\n",
       "      <td>33.3570</td>\n",
       "      <td>-89.0473</td>\n",
       "      <td>1923</td>\n",
       "      <td>33.193352</td>\n",
       "      <td>-90.017058</td>\n",
       "      <td>62</td>\n",
       "      <td>11</td>\n",
       "      <td>5</td>\n",
       "      <td>...</td>\n",
       "      <td>0</td>\n",
       "      <td>0</td>\n",
       "      <td>0</td>\n",
       "      <td>0</td>\n",
       "      <td>0</td>\n",
       "      <td>0</td>\n",
       "      <td>0</td>\n",
       "      <td>0</td>\n",
       "      <td>0</td>\n",
       "      <td>0</td>\n",
       "    </tr>\n",
       "    <tr>\n",
       "      <th>2</th>\n",
       "      <td>8.46</td>\n",
       "      <td>10504</td>\n",
       "      <td>41.1360</td>\n",
       "      <td>-73.7009</td>\n",
       "      <td>7987</td>\n",
       "      <td>41.493080</td>\n",
       "      <td>-74.290518</td>\n",
       "      <td>58</td>\n",
       "      <td>10</td>\n",
       "      <td>4</td>\n",
       "      <td>...</td>\n",
       "      <td>0</td>\n",
       "      <td>0</td>\n",
       "      <td>0</td>\n",
       "      <td>0</td>\n",
       "      <td>0</td>\n",
       "      <td>0</td>\n",
       "      <td>0</td>\n",
       "      <td>0</td>\n",
       "      <td>1</td>\n",
       "      <td>0</td>\n",
       "    </tr>\n",
       "    <tr>\n",
       "      <th>3</th>\n",
       "      <td>112.71</td>\n",
       "      <td>63665</td>\n",
       "      <td>37.3272</td>\n",
       "      <td>-91.0243</td>\n",
       "      <td>241</td>\n",
       "      <td>36.342555</td>\n",
       "      <td>-91.407343</td>\n",
       "      <td>48</td>\n",
       "      <td>18</td>\n",
       "      <td>4</td>\n",
       "      <td>...</td>\n",
       "      <td>0</td>\n",
       "      <td>0</td>\n",
       "      <td>1</td>\n",
       "      <td>0</td>\n",
       "      <td>0</td>\n",
       "      <td>0</td>\n",
       "      <td>0</td>\n",
       "      <td>0</td>\n",
       "      <td>0</td>\n",
       "      <td>0</td>\n",
       "    </tr>\n",
       "    <tr>\n",
       "      <th>4</th>\n",
       "      <td>56.41</td>\n",
       "      <td>64686</td>\n",
       "      <td>39.7417</td>\n",
       "      <td>-93.6289</td>\n",
       "      <td>271</td>\n",
       "      <td>39.435902</td>\n",
       "      <td>-93.064931</td>\n",
       "      <td>50</td>\n",
       "      <td>22</td>\n",
       "      <td>6</td>\n",
       "      <td>...</td>\n",
       "      <td>0</td>\n",
       "      <td>0</td>\n",
       "      <td>1</td>\n",
       "      <td>0</td>\n",
       "      <td>0</td>\n",
       "      <td>0</td>\n",
       "      <td>0</td>\n",
       "      <td>0</td>\n",
       "      <td>0</td>\n",
       "      <td>0</td>\n",
       "    </tr>\n",
       "  </tbody>\n",
       "</table>\n",
       "<p>5 rows × 25 columns</p>\n",
       "</div>"
      ],
      "text/plain": [
       "      amt    zip      lat      long  city_pop  merch_lat  merch_long  age  \\\n",
       "0  167.42  93529  37.7773 -119.0825       633  38.492626 -118.677235   95   \n",
       "1   46.91  39769  33.3570  -89.0473      1923  33.193352  -90.017058   62   \n",
       "2    8.46  10504  41.1360  -73.7009      7987  41.493080  -74.290518   58   \n",
       "3  112.71  63665  37.3272  -91.0243       241  36.342555  -91.407343   48   \n",
       "4   56.41  64686  39.7417  -93.6289       271  39.435902  -93.064931   50   \n",
       "\n",
       "   hour  day  ...  category_grocery_pos  category_health_fitness  \\\n",
       "0     8    2  ...                     1                        0   \n",
       "1    11    5  ...                     0                        0   \n",
       "2    10    4  ...                     0                        0   \n",
       "3    18    4  ...                     0                        0   \n",
       "4    22    6  ...                     0                        0   \n",
       "\n",
       "   category_home  category_kids_pets  category_misc_net  category_misc_pos  \\\n",
       "0              0                   0                  0                  0   \n",
       "1              0                   0                  0                  0   \n",
       "2              0                   0                  0                  0   \n",
       "3              1                   0                  0                  0   \n",
       "4              1                   0                  0                  0   \n",
       "\n",
       "   category_personal_care  category_shopping_net  category_shopping_pos  \\\n",
       "0                       0                      0                      0   \n",
       "1                       0                      0                      0   \n",
       "2                       0                      0                      1   \n",
       "3                       0                      0                      0   \n",
       "4                       0                      0                      0   \n",
       "\n",
       "   category_travel  \n",
       "0                0  \n",
       "1                0  \n",
       "2                0  \n",
       "3                0  \n",
       "4                0  \n",
       "\n",
       "[5 rows x 25 columns]"
      ]
     },
     "execution_count": 14,
     "metadata": {},
     "output_type": "execute_result"
    }
   ],
   "source": [
    "fraud.head(5)"
   ]
  },
  {
   "cell_type": "markdown",
   "id": "e0545582",
   "metadata": {},
   "source": [
    "## <CENTER><U> 6. PANDAS DATA PROFILING</CENTER></U>"
   ]
  },
  {
   "cell_type": "code",
   "execution_count": 15,
   "id": "3e0b6ef6",
   "metadata": {},
   "outputs": [
    {
     "data": {
      "application/vnd.jupyter.widget-view+json": {
       "model_id": "13a8ff8332804b6b9d9249c042e5b947",
       "version_major": 2,
       "version_minor": 0
      },
      "text/plain": [
       "Summarize dataset:   0%|          | 0/5 [00:00<?, ?it/s]"
      ]
     },
     "metadata": {},
     "output_type": "display_data"
    },
    {
     "data": {
      "application/vnd.jupyter.widget-view+json": {
       "model_id": "2745d1030b024aab8fa6cfb87ee37b56",
       "version_major": 2,
       "version_minor": 0
      },
      "text/plain": [
       "Generate report structure:   0%|          | 0/1 [00:00<?, ?it/s]"
      ]
     },
     "metadata": {},
     "output_type": "display_data"
    },
    {
     "data": {
      "application/vnd.jupyter.widget-view+json": {
       "model_id": "9a1ff583cc034f4e8670882ff9a5059e",
       "version_major": 2,
       "version_minor": 0
      },
      "text/plain": [
       "Render HTML:   0%|          | 0/1 [00:00<?, ?it/s]"
      ]
     },
     "metadata": {},
     "output_type": "display_data"
    },
    {
     "data": {
      "application/vnd.jupyter.widget-view+json": {
       "model_id": "6040654fef63423c9ab36dcb4b47a16a",
       "version_major": 2,
       "version_minor": 0
      },
      "text/plain": [
       "Export report to file:   0%|          | 0/1 [00:00<?, ?it/s]"
      ]
     },
     "metadata": {},
     "output_type": "display_data"
    }
   ],
   "source": [
    "profile = fraud.profile_report(title='Exploratory Data Analysis - Fraud Detection')\n",
    "profile.to_file(output_file=\"Data_Processing/Fraud_Detection_EDA.html\")"
   ]
  },
  {
   "cell_type": "code",
   "execution_count": 16,
   "id": "8c44b5d1",
   "metadata": {},
   "outputs": [
    {
     "data": {
      "image/png": "[encoded data removed]",
      "text/plain": [
       "<Figure size 1440x1440 with 2 Axes>"
      ]
     },
     "metadata": {
      "needs_background": "light"
     },
     "output_type": "display_data"
    }
   ],
   "source": [
    "plt.figure(figsize=(20,20))\n",
    "sns.heatmap(fraud.corr(), square=True, cmap='Purples')\n",
    "sns.set(font_scale=1.5)\n",
    "plt.rc('font', family='Times New Roman', size=10)\n",
    "plt.title('CORRELATION - HEATMAP',fontsize=25)\n",
    "plt.show()"
   ]
  },
  {
   "cell_type": "markdown",
   "id": "29ab0114",
   "metadata": {},
   "source": [
    "## <CENTER><U> 6. EXPORT DATA</CENTER></U>"
   ]
  },
  {
   "cell_type": "code",
   "execution_count": 18,
   "id": "5c36f14e",
   "metadata": {},
   "outputs": [],
   "source": [
    "fraud.to_csv('Data_Processing/FraudData_ValidationSet.csv')"
   ]
  }
 ],
 "metadata": {
  "kernelspec": {
   "display_name": "Python 3 (ipykernel)",
   "language": "python",
   "name": "python3"
  },
  "language_info": {
   "codemirror_mode": {
    "name": "ipython",
    "version": 3
   },
   "file_extension": ".py",
   "mimetype": "text/x-python",
   "name": "python",
   "nbconvert_exporter": "python",
   "pygments_lexer": "ipython3",
   "version": "3.9.7"
  }
 },
 "nbformat": 4,
 "nbformat_minor": 5
}
