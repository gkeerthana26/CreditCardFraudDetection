{
 "cells": [
  {
   "cell_type": "markdown",
   "id": "3b760218",
   "metadata": {},
   "source": [
    "# <CENTER><U> 1. IMPORTING BASIC NECESSARY PACKAGES</U></CENTER>"
   ]
  },
  {
   "cell_type": "code",
   "execution_count": 1,
   "id": "c67b4c7c",
   "metadata": {
    "scrolled": true
   },
   "outputs": [
    {
     "name": "stdout",
     "output_type": "stream",
     "text": [
      "Requirement already satisfied: pandas_profiling in c:\\users\\gayus\\anaconda3\\lib\\site-packages (3.3.0)\n",
      "Requirement already satisfied: scipy<1.10,>=1.4.1 in c:\\users\\gayus\\anaconda3\\lib\\site-packages (from pandas_profiling) (1.7.1)\n",
      "Requirement already satisfied: PyYAML<6.1,>=5.0.0 in c:\\users\\gayus\\anaconda3\\lib\\site-packages (from pandas_profiling) (6.0)\n",
      "Requirement already satisfied: visions[type_image_path]==0.7.5 in c:\\users\\gayus\\anaconda3\\lib\\site-packages (from pandas_profiling) (0.7.5)\n",
      "Requirement already satisfied: htmlmin==0.1.12 in c:\\users\\gayus\\anaconda3\\lib\\site-packages (from pandas_profiling) (0.1.12)\n",
      "Requirement already satisfied: missingno<0.6,>=0.4.2 in c:\\users\\gayus\\anaconda3\\lib\\site-packages (from pandas_profiling) (0.5.1)\n",
      "Requirement already satisfied: pandas!=1.4.0,<1.5,>1.1 in c:\\users\\gayus\\anaconda3\\lib\\site-packages (from pandas_profiling) (1.3.4)\n",
      "Requirement already satisfied: statsmodels<0.14,>=0.13.2 in c:\\users\\gayus\\anaconda3\\lib\\site-packages (from pandas_profiling) (0.13.2)\n",
      "Requirement already satisfied: tangled-up-in-unicode==0.2.0 in c:\\users\\gayus\\anaconda3\\lib\\site-packages (from pandas_profiling) (0.2.0)\n",
      "Requirement already satisfied: pydantic<1.10,>=1.8.1 in c:\\users\\gayus\\anaconda3\\lib\\site-packages (from pandas_profiling) (1.9.2)\n",
      "Requirement already satisfied: seaborn<0.12,>=0.10.1 in c:\\users\\gayus\\anaconda3\\lib\\site-packages (from pandas_profiling) (0.11.2)\n",
      "Requirement already satisfied: joblib~=1.1.0 in c:\\users\\gayus\\anaconda3\\lib\\site-packages (from pandas_profiling) (1.1.0)\n",
      "Requirement already satisfied: tqdm<4.65,>=4.48.2 in c:\\users\\gayus\\anaconda3\\lib\\site-packages (from pandas_profiling) (4.62.3)\n",
      "Requirement already satisfied: jinja2<3.2,>=2.11.1 in c:\\users\\gayus\\anaconda3\\lib\\site-packages (from pandas_profiling) (2.11.3)\n",
      "Requirement already satisfied: multimethod<1.9,>=1.4 in c:\\users\\gayus\\anaconda3\\lib\\site-packages (from pandas_profiling) (1.8)\n",
      "Requirement already satisfied: phik<0.13,>=0.11.1 in c:\\users\\gayus\\anaconda3\\lib\\site-packages (from pandas_profiling) (0.12.2)\n",
      "Requirement already satisfied: numpy<1.24,>=1.16.0 in c:\\users\\gayus\\anaconda3\\lib\\site-packages (from pandas_profiling) (1.20.3)\n",
      "Requirement already satisfied: requests<2.29,>=2.24.0 in c:\\users\\gayus\\anaconda3\\lib\\site-packages (from pandas_profiling) (2.26.0)\n",
      "Requirement already satisfied: matplotlib<3.6,>=3.2 in c:\\users\\gayus\\anaconda3\\lib\\site-packages (from pandas_profiling) (3.4.3)\n",
      "Requirement already satisfied: networkx>=2.4 in c:\\users\\gayus\\anaconda3\\lib\\site-packages (from visions[type_image_path]==0.7.5->pandas_profiling) (2.6.3)\n",
      "Requirement already satisfied: attrs>=19.3.0 in c:\\users\\gayus\\anaconda3\\lib\\site-packages (from visions[type_image_path]==0.7.5->pandas_profiling) (21.2.0)\n",
      "Requirement already satisfied: Pillow in c:\\users\\gayus\\anaconda3\\lib\\site-packages (from visions[type_image_path]==0.7.5->pandas_profiling) (8.4.0)\n",
      "Requirement already satisfied: imagehash in c:\\users\\gayus\\anaconda3\\lib\\site-packages (from visions[type_image_path]==0.7.5->pandas_profiling) (4.3.1)\n",
      "Requirement already satisfied: MarkupSafe>=0.23 in c:\\users\\gayus\\anaconda3\\lib\\site-packages (from jinja2<3.2,>=2.11.1->pandas_profiling) (1.1.1)\n",
      "Requirement already satisfied: python-dateutil>=2.7 in c:\\users\\gayus\\anaconda3\\lib\\site-packages (from matplotlib<3.6,>=3.2->pandas_profiling) (2.8.2)\n",
      "Requirement already satisfied: cycler>=0.10 in c:\\users\\gayus\\anaconda3\\lib\\site-packages (from matplotlib<3.6,>=3.2->pandas_profiling) (0.10.0)\n",
      "Requirement already satisfied: pyparsing>=2.2.1 in c:\\users\\gayus\\anaconda3\\lib\\site-packages (from matplotlib<3.6,>=3.2->pandas_profiling) (3.0.4)\n",
      "Requirement already satisfied: kiwisolver>=1.0.1 in c:\\users\\gayus\\anaconda3\\lib\\site-packages (from matplotlib<3.6,>=3.2->pandas_profiling) (1.3.1)\n",
      "Requirement already satisfied: six in c:\\users\\gayus\\anaconda3\\lib\\site-packages (from cycler>=0.10->matplotlib<3.6,>=3.2->pandas_profiling) (1.16.0)\n",
      "Requirement already satisfied: pytz>=2017.3 in c:\\users\\gayus\\anaconda3\\lib\\site-packages (from pandas!=1.4.0,<1.5,>1.1->pandas_profiling) (2021.3)\n",
      "Requirement already satisfied: typing-extensions>=3.7.4.3 in c:\\users\\gayus\\anaconda3\\lib\\site-packages (from pydantic<1.10,>=1.8.1->pandas_profiling) (3.10.0.2)\n",
      "Requirement already satisfied: charset-normalizer~=2.0.0 in c:\\users\\gayus\\anaconda3\\lib\\site-packages (from requests<2.29,>=2.24.0->pandas_profiling) (2.0.4)\n",
      "Requirement already satisfied: certifi>=2017.4.17 in c:\\users\\gayus\\anaconda3\\lib\\site-packages (from requests<2.29,>=2.24.0->pandas_profiling) (2021.10.8)\n",
      "Requirement already satisfied: idna<4,>=2.5 in c:\\users\\gayus\\anaconda3\\lib\\site-packages (from requests<2.29,>=2.24.0->pandas_profiling) (3.2)\n",
      "Requirement already satisfied: urllib3<1.27,>=1.21.1 in c:\\users\\gayus\\anaconda3\\lib\\site-packages (from requests<2.29,>=2.24.0->pandas_profiling) (1.26.7)\n",
      "Requirement already satisfied: packaging>=21.3 in c:\\users\\gayus\\anaconda3\\lib\\site-packages (from statsmodels<0.14,>=0.13.2->pandas_profiling) (21.3)\n",
      "Requirement already satisfied: patsy>=0.5.2 in c:\\users\\gayus\\anaconda3\\lib\\site-packages (from statsmodels<0.14,>=0.13.2->pandas_profiling) (0.5.2)\n",
      "Requirement already satisfied: colorama in c:\\users\\gayus\\anaconda3\\lib\\site-packages (from tqdm<4.65,>=4.48.2->pandas_profiling) (0.4.4)\n",
      "Requirement already satisfied: PyWavelets in c:\\users\\gayus\\anaconda3\\lib\\site-packages (from imagehash->visions[type_image_path]==0.7.5->pandas_profiling) (1.1.1)\n",
      "Note: you may need to restart the kernel to use updated packages.\n"
     ]
    }
   ],
   "source": [
    "pip install pandas_profiling"
   ]
  },
  {
   "cell_type": "code",
   "execution_count": 2,
   "id": "f2b8ceec",
   "metadata": {},
   "outputs": [],
   "source": [
    "import matplotlib.pyplot as plt\n",
    "from sklearn.metrics import classification_report,confusion_matrix\n",
    "from __future__ import division\n",
    "from sklearn.cluster import KMeans\n",
    "# Implement learning algorithms\n",
    "from sklearn.linear_model import LogisticRegression\n",
    "from sklearn.svm import LinearSVC, SVC\n",
    "from sklearn.ensemble import RandomForestClassifier\n",
    "from sklearn.tree import DecisionTreeClassifier\n",
    "from sklearn.neighbors import KNeighborsClassifier\n",
    "from sklearn.naive_bayes import GaussianNB\n",
    "from sklearn.metrics import f1_score\n",
    "from sklearn import model_selection as cross_validation\n",
    "from time import time\n",
    "from sklearn.utils import shuffle\n",
    "from sklearn.model_selection import KFold, cross_val_score, train_test_split\n",
    "import xgboost as xgb\n",
    "import xgboost as xgb\n",
    "plt.style.use(\"ggplot\")"
   ]
  },
  {
   "cell_type": "code",
   "execution_count": 3,
   "id": "49e5c84b",
   "metadata": {},
   "outputs": [],
   "source": [
    "import matplotlib.pyplot as plt\n",
    "%matplotlib inline\n",
    "import pandas as pd\n",
    "import numpy as np\n",
    "import seaborn as sns\n",
    "import plotly.express as px\n",
    "import xlrd\n",
    "import lifetimes\n",
    "import datetime\n",
    "import warnings\n",
    "warnings.filterwarnings(\"ignore\")\n",
    "np.random.seed(42)\n",
    "from datetime import datetime, timedelta,date"
   ]
  },
  {
   "cell_type": "code",
   "execution_count": 4,
   "id": "1b5e1aa2",
   "metadata": {},
   "outputs": [],
   "source": [
    "##Dataset Import:\n",
    "from sklearn import datasets\n",
    "from sklearn.datasets import load_iris\n",
    "\n",
    "## Importing Decision Tree Classifier\n",
    "from sklearn.tree import DecisionTreeClassifier\n",
    "\n",
    "##Importing ensemble and ML Models:\n",
    "from sklearn.ensemble import RandomForestClassifier, BaggingClassifier, GradientBoostingClassifier,AdaBoostClassifier\n",
    "from sklearn.ensemble import VotingClassifier\n",
    "from sklearn.linear_model import LogisticRegression\n",
    "from sklearn.svm import SVC\n",
    "\n",
    "\n",
    "import pandas_profiling\n",
    "##Importing sklearn model selection and metrics\n",
    "from sklearn import metrics\n",
    "from sklearn.metrics import confusion_matrix\n",
    "from sklearn.metrics import accuracy_score\n",
    "from sklearn.model_selection import train_test_split\n",
    "from sklearn.model_selection import cross_val_score, cross_val_predict\n",
    "from sklearn.metrics import classification_report"
   ]
  },
  {
   "cell_type": "markdown",
   "id": "8a99ef78",
   "metadata": {},
   "source": [
    "## <CENTER><U> 2. READING INPUT DATA </CENTER></U>`"
   ]
  },
  {
   "cell_type": "code",
   "execution_count": 5,
   "id": "07fb7d7e",
   "metadata": {},
   "outputs": [
    {
     "data": {
      "text/plain": [
       "amt                        300000\n",
       "zip                        300000\n",
       "lat                        300000\n",
       "long                       300000\n",
       "city_pop                   300000\n",
       "merch_lat                  300000\n",
       "merch_long                 300000\n",
       "age                        300000\n",
       "hour                       300000\n",
       "day                        300000\n",
       "month                      300000\n",
       "is_fraud                   300000\n",
       "category_food_dining       300000\n",
       "category_gas_transport     300000\n",
       "category_grocery_net       300000\n",
       "category_grocery_pos       300000\n",
       "category_health_fitness    300000\n",
       "category_home              300000\n",
       "category_kids_pets         300000\n",
       "category_misc_net          300000\n",
       "category_misc_pos          300000\n",
       "category_personal_care     300000\n",
       "category_shopping_net      300000\n",
       "category_shopping_pos      300000\n",
       "category_travel            300000\n",
       "dtype: int64"
      ]
     },
     "execution_count": 5,
     "metadata": {},
     "output_type": "execute_result"
    }
   ],
   "source": [
    "fraud = pd.read_csv('Data_Processing/FraudData_ValidationSet.csv')\n",
    "fraud.drop('Unnamed: 0',axis=1,inplace=True)\n",
    "fraud.count()"
   ]
  },
  {
   "cell_type": "code",
   "execution_count": 6,
   "id": "53b65bc5",
   "metadata": {},
   "outputs": [
    {
     "data": {
      "text/html": [
       "<div>\n",
       "<style scoped>\n",
       "    .dataframe tbody tr th:only-of-type {\n",
       "        vertical-align: middle;\n",
       "    }\n",
       "\n",
       "    .dataframe tbody tr th {\n",
       "        vertical-align: top;\n",
       "    }\n",
       "\n",
       "    .dataframe thead th {\n",
       "        text-align: right;\n",
       "    }\n",
       "</style>\n",
       "<table border=\"1\" class=\"dataframe\">\n",
       "  <thead>\n",
       "    <tr style=\"text-align: right;\">\n",
       "      <th></th>\n",
       "      <th>amt</th>\n",
       "      <th>zip</th>\n",
       "      <th>lat</th>\n",
       "      <th>long</th>\n",
       "      <th>city_pop</th>\n",
       "      <th>merch_lat</th>\n",
       "      <th>merch_long</th>\n",
       "      <th>age</th>\n",
       "      <th>hour</th>\n",
       "      <th>day</th>\n",
       "      <th>...</th>\n",
       "      <th>category_grocery_pos</th>\n",
       "      <th>category_health_fitness</th>\n",
       "      <th>category_home</th>\n",
       "      <th>category_kids_pets</th>\n",
       "      <th>category_misc_net</th>\n",
       "      <th>category_misc_pos</th>\n",
       "      <th>category_personal_care</th>\n",
       "      <th>category_shopping_net</th>\n",
       "      <th>category_shopping_pos</th>\n",
       "      <th>category_travel</th>\n",
       "    </tr>\n",
       "  </thead>\n",
       "  <tbody>\n",
       "    <tr>\n",
       "      <th>0</th>\n",
       "      <td>167.42</td>\n",
       "      <td>93529</td>\n",
       "      <td>37.7773</td>\n",
       "      <td>-119.0825</td>\n",
       "      <td>633</td>\n",
       "      <td>38.492626</td>\n",
       "      <td>-118.677235</td>\n",
       "      <td>95</td>\n",
       "      <td>8</td>\n",
       "      <td>2</td>\n",
       "      <td>...</td>\n",
       "      <td>1</td>\n",
       "      <td>0</td>\n",
       "      <td>0</td>\n",
       "      <td>0</td>\n",
       "      <td>0</td>\n",
       "      <td>0</td>\n",
       "      <td>0</td>\n",
       "      <td>0</td>\n",
       "      <td>0</td>\n",
       "      <td>0</td>\n",
       "    </tr>\n",
       "    <tr>\n",
       "      <th>1</th>\n",
       "      <td>46.91</td>\n",
       "      <td>39769</td>\n",
       "      <td>33.3570</td>\n",
       "      <td>-89.0473</td>\n",
       "      <td>1923</td>\n",
       "      <td>33.193352</td>\n",
       "      <td>-90.017058</td>\n",
       "      <td>62</td>\n",
       "      <td>11</td>\n",
       "      <td>5</td>\n",
       "      <td>...</td>\n",
       "      <td>0</td>\n",
       "      <td>0</td>\n",
       "      <td>0</td>\n",
       "      <td>0</td>\n",
       "      <td>0</td>\n",
       "      <td>0</td>\n",
       "      <td>0</td>\n",
       "      <td>0</td>\n",
       "      <td>0</td>\n",
       "      <td>0</td>\n",
       "    </tr>\n",
       "    <tr>\n",
       "      <th>2</th>\n",
       "      <td>8.46</td>\n",
       "      <td>10504</td>\n",
       "      <td>41.1360</td>\n",
       "      <td>-73.7009</td>\n",
       "      <td>7987</td>\n",
       "      <td>41.493080</td>\n",
       "      <td>-74.290518</td>\n",
       "      <td>58</td>\n",
       "      <td>10</td>\n",
       "      <td>4</td>\n",
       "      <td>...</td>\n",
       "      <td>0</td>\n",
       "      <td>0</td>\n",
       "      <td>0</td>\n",
       "      <td>0</td>\n",
       "      <td>0</td>\n",
       "      <td>0</td>\n",
       "      <td>0</td>\n",
       "      <td>0</td>\n",
       "      <td>1</td>\n",
       "      <td>0</td>\n",
       "    </tr>\n",
       "    <tr>\n",
       "      <th>3</th>\n",
       "      <td>112.71</td>\n",
       "      <td>63665</td>\n",
       "      <td>37.3272</td>\n",
       "      <td>-91.0243</td>\n",
       "      <td>241</td>\n",
       "      <td>36.342555</td>\n",
       "      <td>-91.407343</td>\n",
       "      <td>48</td>\n",
       "      <td>18</td>\n",
       "      <td>4</td>\n",
       "      <td>...</td>\n",
       "      <td>0</td>\n",
       "      <td>0</td>\n",
       "      <td>1</td>\n",
       "      <td>0</td>\n",
       "      <td>0</td>\n",
       "      <td>0</td>\n",
       "      <td>0</td>\n",
       "      <td>0</td>\n",
       "      <td>0</td>\n",
       "      <td>0</td>\n",
       "    </tr>\n",
       "    <tr>\n",
       "      <th>4</th>\n",
       "      <td>56.41</td>\n",
       "      <td>64686</td>\n",
       "      <td>39.7417</td>\n",
       "      <td>-93.6289</td>\n",
       "      <td>271</td>\n",
       "      <td>39.435902</td>\n",
       "      <td>-93.064931</td>\n",
       "      <td>50</td>\n",
       "      <td>22</td>\n",
       "      <td>6</td>\n",
       "      <td>...</td>\n",
       "      <td>0</td>\n",
       "      <td>0</td>\n",
       "      <td>1</td>\n",
       "      <td>0</td>\n",
       "      <td>0</td>\n",
       "      <td>0</td>\n",
       "      <td>0</td>\n",
       "      <td>0</td>\n",
       "      <td>0</td>\n",
       "      <td>0</td>\n",
       "    </tr>\n",
       "    <tr>\n",
       "      <th>...</th>\n",
       "      <td>...</td>\n",
       "      <td>...</td>\n",
       "      <td>...</td>\n",
       "      <td>...</td>\n",
       "      <td>...</td>\n",
       "      <td>...</td>\n",
       "      <td>...</td>\n",
       "      <td>...</td>\n",
       "      <td>...</td>\n",
       "      <td>...</td>\n",
       "      <td>...</td>\n",
       "      <td>...</td>\n",
       "      <td>...</td>\n",
       "      <td>...</td>\n",
       "      <td>...</td>\n",
       "      <td>...</td>\n",
       "      <td>...</td>\n",
       "      <td>...</td>\n",
       "      <td>...</td>\n",
       "      <td>...</td>\n",
       "      <td>...</td>\n",
       "    </tr>\n",
       "    <tr>\n",
       "      <th>299995</th>\n",
       "      <td>35.94</td>\n",
       "      <td>8350</td>\n",
       "      <td>39.4850</td>\n",
       "      <td>-74.8776</td>\n",
       "      <td>825</td>\n",
       "      <td>38.762023</td>\n",
       "      <td>-74.957725</td>\n",
       "      <td>31</td>\n",
       "      <td>11</td>\n",
       "      <td>6</td>\n",
       "      <td>...</td>\n",
       "      <td>0</td>\n",
       "      <td>0</td>\n",
       "      <td>0</td>\n",
       "      <td>0</td>\n",
       "      <td>0</td>\n",
       "      <td>1</td>\n",
       "      <td>0</td>\n",
       "      <td>0</td>\n",
       "      <td>0</td>\n",
       "      <td>0</td>\n",
       "    </tr>\n",
       "    <tr>\n",
       "      <th>299996</th>\n",
       "      <td>88.58</td>\n",
       "      <td>67216</td>\n",
       "      <td>37.6223</td>\n",
       "      <td>-97.3136</td>\n",
       "      <td>409656</td>\n",
       "      <td>38.444081</td>\n",
       "      <td>-97.488754</td>\n",
       "      <td>92</td>\n",
       "      <td>4</td>\n",
       "      <td>6</td>\n",
       "      <td>...</td>\n",
       "      <td>1</td>\n",
       "      <td>0</td>\n",
       "      <td>0</td>\n",
       "      <td>0</td>\n",
       "      <td>0</td>\n",
       "      <td>0</td>\n",
       "      <td>0</td>\n",
       "      <td>0</td>\n",
       "      <td>0</td>\n",
       "      <td>0</td>\n",
       "    </tr>\n",
       "    <tr>\n",
       "      <th>299997</th>\n",
       "      <td>16.63</td>\n",
       "      <td>76834</td>\n",
       "      <td>31.8287</td>\n",
       "      <td>-99.4270</td>\n",
       "      <td>5908</td>\n",
       "      <td>31.973577</td>\n",
       "      <td>-98.934545</td>\n",
       "      <td>60</td>\n",
       "      <td>1</td>\n",
       "      <td>6</td>\n",
       "      <td>...</td>\n",
       "      <td>0</td>\n",
       "      <td>0</td>\n",
       "      <td>0</td>\n",
       "      <td>0</td>\n",
       "      <td>0</td>\n",
       "      <td>1</td>\n",
       "      <td>0</td>\n",
       "      <td>0</td>\n",
       "      <td>0</td>\n",
       "      <td>0</td>\n",
       "    </tr>\n",
       "    <tr>\n",
       "      <th>299998</th>\n",
       "      <td>40.91</td>\n",
       "      <td>74633</td>\n",
       "      <td>36.6966</td>\n",
       "      <td>-96.7869</td>\n",
       "      <td>471</td>\n",
       "      <td>36.753618</td>\n",
       "      <td>-95.914743</td>\n",
       "      <td>81</td>\n",
       "      <td>4</td>\n",
       "      <td>5</td>\n",
       "      <td>...</td>\n",
       "      <td>0</td>\n",
       "      <td>0</td>\n",
       "      <td>0</td>\n",
       "      <td>0</td>\n",
       "      <td>1</td>\n",
       "      <td>0</td>\n",
       "      <td>0</td>\n",
       "      <td>0</td>\n",
       "      <td>0</td>\n",
       "      <td>0</td>\n",
       "    </tr>\n",
       "    <tr>\n",
       "      <th>299999</th>\n",
       "      <td>78.06</td>\n",
       "      <td>75092</td>\n",
       "      <td>33.6372</td>\n",
       "      <td>-96.6184</td>\n",
       "      <td>46563</td>\n",
       "      <td>33.756980</td>\n",
       "      <td>-96.078755</td>\n",
       "      <td>52</td>\n",
       "      <td>4</td>\n",
       "      <td>6</td>\n",
       "      <td>...</td>\n",
       "      <td>0</td>\n",
       "      <td>0</td>\n",
       "      <td>0</td>\n",
       "      <td>0</td>\n",
       "      <td>0</td>\n",
       "      <td>0</td>\n",
       "      <td>0</td>\n",
       "      <td>0</td>\n",
       "      <td>0</td>\n",
       "      <td>0</td>\n",
       "    </tr>\n",
       "  </tbody>\n",
       "</table>\n",
       "<p>300000 rows × 25 columns</p>\n",
       "</div>"
      ],
      "text/plain": [
       "           amt    zip      lat      long  city_pop  merch_lat  merch_long  \\\n",
       "0       167.42  93529  37.7773 -119.0825       633  38.492626 -118.677235   \n",
       "1        46.91  39769  33.3570  -89.0473      1923  33.193352  -90.017058   \n",
       "2         8.46  10504  41.1360  -73.7009      7987  41.493080  -74.290518   \n",
       "3       112.71  63665  37.3272  -91.0243       241  36.342555  -91.407343   \n",
       "4        56.41  64686  39.7417  -93.6289       271  39.435902  -93.064931   \n",
       "...        ...    ...      ...       ...       ...        ...         ...   \n",
       "299995   35.94   8350  39.4850  -74.8776       825  38.762023  -74.957725   \n",
       "299996   88.58  67216  37.6223  -97.3136    409656  38.444081  -97.488754   \n",
       "299997   16.63  76834  31.8287  -99.4270      5908  31.973577  -98.934545   \n",
       "299998   40.91  74633  36.6966  -96.7869       471  36.753618  -95.914743   \n",
       "299999   78.06  75092  33.6372  -96.6184     46563  33.756980  -96.078755   \n",
       "\n",
       "        age  hour  day  ...  category_grocery_pos  category_health_fitness  \\\n",
       "0        95     8    2  ...                     1                        0   \n",
       "1        62    11    5  ...                     0                        0   \n",
       "2        58    10    4  ...                     0                        0   \n",
       "3        48    18    4  ...                     0                        0   \n",
       "4        50    22    6  ...                     0                        0   \n",
       "...     ...   ...  ...  ...                   ...                      ...   \n",
       "299995   31    11    6  ...                     0                        0   \n",
       "299996   92     4    6  ...                     1                        0   \n",
       "299997   60     1    6  ...                     0                        0   \n",
       "299998   81     4    5  ...                     0                        0   \n",
       "299999   52     4    6  ...                     0                        0   \n",
       "\n",
       "        category_home  category_kids_pets  category_misc_net  \\\n",
       "0                   0                   0                  0   \n",
       "1                   0                   0                  0   \n",
       "2                   0                   0                  0   \n",
       "3                   1                   0                  0   \n",
       "4                   1                   0                  0   \n",
       "...               ...                 ...                ...   \n",
       "299995              0                   0                  0   \n",
       "299996              0                   0                  0   \n",
       "299997              0                   0                  0   \n",
       "299998              0                   0                  1   \n",
       "299999              0                   0                  0   \n",
       "\n",
       "        category_misc_pos  category_personal_care  category_shopping_net  \\\n",
       "0                       0                       0                      0   \n",
       "1                       0                       0                      0   \n",
       "2                       0                       0                      0   \n",
       "3                       0                       0                      0   \n",
       "4                       0                       0                      0   \n",
       "...                   ...                     ...                    ...   \n",
       "299995                  1                       0                      0   \n",
       "299996                  0                       0                      0   \n",
       "299997                  1                       0                      0   \n",
       "299998                  0                       0                      0   \n",
       "299999                  0                       0                      0   \n",
       "\n",
       "        category_shopping_pos  category_travel  \n",
       "0                           0                0  \n",
       "1                           0                0  \n",
       "2                           1                0  \n",
       "3                           0                0  \n",
       "4                           0                0  \n",
       "...                       ...              ...  \n",
       "299995                      0                0  \n",
       "299996                      0                0  \n",
       "299997                      0                0  \n",
       "299998                      0                0  \n",
       "299999                      0                0  \n",
       "\n",
       "[300000 rows x 25 columns]"
      ]
     },
     "execution_count": 6,
     "metadata": {},
     "output_type": "execute_result"
    }
   ],
   "source": [
    "fraud"
   ]
  },
  {
   "cell_type": "markdown",
   "id": "50bbab9e",
   "metadata": {},
   "source": [
    "# <B><U><CENTER> SUPERVISED EXECUTION"
   ]
  },
  {
   "cell_type": "markdown",
   "id": "91e64bfa",
   "metadata": {},
   "source": [
    "## <CENTER><U> 1. SPLITTING TEST AND TRAIN DATA</CENTER></U>"
   ]
  },
  {
   "cell_type": "code",
   "execution_count": 7,
   "id": "f2f652a7",
   "metadata": {
    "scrolled": true
   },
   "outputs": [
    {
     "data": {
      "text/html": [
       "<div>\n",
       "<style scoped>\n",
       "    .dataframe tbody tr th:only-of-type {\n",
       "        vertical-align: middle;\n",
       "    }\n",
       "\n",
       "    .dataframe tbody tr th {\n",
       "        vertical-align: top;\n",
       "    }\n",
       "\n",
       "    .dataframe thead th {\n",
       "        text-align: right;\n",
       "    }\n",
       "</style>\n",
       "<table border=\"1\" class=\"dataframe\">\n",
       "  <thead>\n",
       "    <tr style=\"text-align: right;\">\n",
       "      <th></th>\n",
       "      <th>amt</th>\n",
       "      <th>zip</th>\n",
       "      <th>lat</th>\n",
       "      <th>long</th>\n",
       "      <th>city_pop</th>\n",
       "      <th>merch_lat</th>\n",
       "      <th>merch_long</th>\n",
       "      <th>age</th>\n",
       "      <th>hour</th>\n",
       "      <th>day</th>\n",
       "      <th>...</th>\n",
       "      <th>category_grocery_pos</th>\n",
       "      <th>category_health_fitness</th>\n",
       "      <th>category_home</th>\n",
       "      <th>category_kids_pets</th>\n",
       "      <th>category_misc_net</th>\n",
       "      <th>category_misc_pos</th>\n",
       "      <th>category_personal_care</th>\n",
       "      <th>category_shopping_net</th>\n",
       "      <th>category_shopping_pos</th>\n",
       "      <th>category_travel</th>\n",
       "    </tr>\n",
       "  </thead>\n",
       "  <tbody>\n",
       "    <tr>\n",
       "      <th>0</th>\n",
       "      <td>167.42</td>\n",
       "      <td>93529</td>\n",
       "      <td>37.7773</td>\n",
       "      <td>-119.0825</td>\n",
       "      <td>633</td>\n",
       "      <td>38.492626</td>\n",
       "      <td>-118.677235</td>\n",
       "      <td>95</td>\n",
       "      <td>8</td>\n",
       "      <td>2</td>\n",
       "      <td>...</td>\n",
       "      <td>1</td>\n",
       "      <td>0</td>\n",
       "      <td>0</td>\n",
       "      <td>0</td>\n",
       "      <td>0</td>\n",
       "      <td>0</td>\n",
       "      <td>0</td>\n",
       "      <td>0</td>\n",
       "      <td>0</td>\n",
       "      <td>0</td>\n",
       "    </tr>\n",
       "    <tr>\n",
       "      <th>1</th>\n",
       "      <td>46.91</td>\n",
       "      <td>39769</td>\n",
       "      <td>33.3570</td>\n",
       "      <td>-89.0473</td>\n",
       "      <td>1923</td>\n",
       "      <td>33.193352</td>\n",
       "      <td>-90.017058</td>\n",
       "      <td>62</td>\n",
       "      <td>11</td>\n",
       "      <td>5</td>\n",
       "      <td>...</td>\n",
       "      <td>0</td>\n",
       "      <td>0</td>\n",
       "      <td>0</td>\n",
       "      <td>0</td>\n",
       "      <td>0</td>\n",
       "      <td>0</td>\n",
       "      <td>0</td>\n",
       "      <td>0</td>\n",
       "      <td>0</td>\n",
       "      <td>0</td>\n",
       "    </tr>\n",
       "    <tr>\n",
       "      <th>2</th>\n",
       "      <td>8.46</td>\n",
       "      <td>10504</td>\n",
       "      <td>41.1360</td>\n",
       "      <td>-73.7009</td>\n",
       "      <td>7987</td>\n",
       "      <td>41.493080</td>\n",
       "      <td>-74.290518</td>\n",
       "      <td>58</td>\n",
       "      <td>10</td>\n",
       "      <td>4</td>\n",
       "      <td>...</td>\n",
       "      <td>0</td>\n",
       "      <td>0</td>\n",
       "      <td>0</td>\n",
       "      <td>0</td>\n",
       "      <td>0</td>\n",
       "      <td>0</td>\n",
       "      <td>0</td>\n",
       "      <td>0</td>\n",
       "      <td>1</td>\n",
       "      <td>0</td>\n",
       "    </tr>\n",
       "    <tr>\n",
       "      <th>3</th>\n",
       "      <td>112.71</td>\n",
       "      <td>63665</td>\n",
       "      <td>37.3272</td>\n",
       "      <td>-91.0243</td>\n",
       "      <td>241</td>\n",
       "      <td>36.342555</td>\n",
       "      <td>-91.407343</td>\n",
       "      <td>48</td>\n",
       "      <td>18</td>\n",
       "      <td>4</td>\n",
       "      <td>...</td>\n",
       "      <td>0</td>\n",
       "      <td>0</td>\n",
       "      <td>1</td>\n",
       "      <td>0</td>\n",
       "      <td>0</td>\n",
       "      <td>0</td>\n",
       "      <td>0</td>\n",
       "      <td>0</td>\n",
       "      <td>0</td>\n",
       "      <td>0</td>\n",
       "    </tr>\n",
       "    <tr>\n",
       "      <th>4</th>\n",
       "      <td>56.41</td>\n",
       "      <td>64686</td>\n",
       "      <td>39.7417</td>\n",
       "      <td>-93.6289</td>\n",
       "      <td>271</td>\n",
       "      <td>39.435902</td>\n",
       "      <td>-93.064931</td>\n",
       "      <td>50</td>\n",
       "      <td>22</td>\n",
       "      <td>6</td>\n",
       "      <td>...</td>\n",
       "      <td>0</td>\n",
       "      <td>0</td>\n",
       "      <td>1</td>\n",
       "      <td>0</td>\n",
       "      <td>0</td>\n",
       "      <td>0</td>\n",
       "      <td>0</td>\n",
       "      <td>0</td>\n",
       "      <td>0</td>\n",
       "      <td>0</td>\n",
       "    </tr>\n",
       "  </tbody>\n",
       "</table>\n",
       "<p>5 rows × 25 columns</p>\n",
       "</div>"
      ],
      "text/plain": [
       "      amt    zip      lat      long  city_pop  merch_lat  merch_long  age  \\\n",
       "0  167.42  93529  37.7773 -119.0825       633  38.492626 -118.677235   95   \n",
       "1   46.91  39769  33.3570  -89.0473      1923  33.193352  -90.017058   62   \n",
       "2    8.46  10504  41.1360  -73.7009      7987  41.493080  -74.290518   58   \n",
       "3  112.71  63665  37.3272  -91.0243       241  36.342555  -91.407343   48   \n",
       "4   56.41  64686  39.7417  -93.6289       271  39.435902  -93.064931   50   \n",
       "\n",
       "   hour  day  ...  category_grocery_pos  category_health_fitness  \\\n",
       "0     8    2  ...                     1                        0   \n",
       "1    11    5  ...                     0                        0   \n",
       "2    10    4  ...                     0                        0   \n",
       "3    18    4  ...                     0                        0   \n",
       "4    22    6  ...                     0                        0   \n",
       "\n",
       "   category_home  category_kids_pets  category_misc_net  category_misc_pos  \\\n",
       "0              0                   0                  0                  0   \n",
       "1              0                   0                  0                  0   \n",
       "2              0                   0                  0                  0   \n",
       "3              1                   0                  0                  0   \n",
       "4              1                   0                  0                  0   \n",
       "\n",
       "   category_personal_care  category_shopping_net  category_shopping_pos  \\\n",
       "0                       0                      0                      0   \n",
       "1                       0                      0                      0   \n",
       "2                       0                      0                      1   \n",
       "3                       0                      0                      0   \n",
       "4                       0                      0                      0   \n",
       "\n",
       "   category_travel  \n",
       "0                0  \n",
       "1                0  \n",
       "2                0  \n",
       "3                0  \n",
       "4                0  \n",
       "\n",
       "[5 rows x 25 columns]"
      ]
     },
     "execution_count": 7,
     "metadata": {},
     "output_type": "execute_result"
    }
   ],
   "source": [
    "fraud.head(5)"
   ]
  },
  {
   "cell_type": "code",
   "execution_count": 8,
   "id": "731fb718",
   "metadata": {},
   "outputs": [
    {
     "data": {
      "text/plain": [
       "(300000, 25)"
      ]
     },
     "execution_count": 8,
     "metadata": {},
     "output_type": "execute_result"
    }
   ],
   "source": [
    "fraud.shape"
   ]
  },
  {
   "cell_type": "code",
   "execution_count": 9,
   "id": "7905f725",
   "metadata": {},
   "outputs": [],
   "source": [
    "#create X and y, X will be feature set and y is the label - LTV\n",
    "X_check = fraud.drop(['is_fraud'],axis=1)\n",
    "y_check = fraud['is_fraud']"
   ]
  },
  {
   "cell_type": "markdown",
   "id": "6e040fe3",
   "metadata": {},
   "source": [
    "### <b><u> Checking for Imbalance in target value:"
   ]
  },
  {
   "cell_type": "code",
   "execution_count": 10,
   "id": "1cb79475",
   "metadata": {},
   "outputs": [
    {
     "data": {
      "text/plain": [
       "0    298444\n",
       "1      1556\n",
       "Name: is_fraud, dtype: int64"
      ]
     },
     "execution_count": 10,
     "metadata": {},
     "output_type": "execute_result"
    }
   ],
   "source": [
    "y_check.value_counts()"
   ]
  },
  {
   "cell_type": "markdown",
   "id": "5664f4be",
   "metadata": {},
   "source": [
    "Since there is a huge imbalance in is_fraud , SMOTE will be used to correct the imbalance"
   ]
  },
  {
   "cell_type": "code",
   "execution_count": 11,
   "id": "dd5f6c9d",
   "metadata": {},
   "outputs": [],
   "source": [
    "from imblearn.over_sampling import SMOTE\n",
    "method= SMOTE(random_state=0)\n",
    "X,y= method.fit_resample(X_check, y_check)"
   ]
  },
  {
   "cell_type": "code",
   "execution_count": 12,
   "id": "eb4ca162",
   "metadata": {},
   "outputs": [
    {
     "data": {
      "text/plain": [
       "0    298444\n",
       "1    298444\n",
       "Name: is_fraud, dtype: int64"
      ]
     },
     "execution_count": 12,
     "metadata": {},
     "output_type": "execute_result"
    }
   ],
   "source": [
    "y.value_counts()"
   ]
  },
  {
   "cell_type": "markdown",
   "id": "1d141be7",
   "metadata": {},
   "source": [
    "The imbalance is now fixed, this data will be now split into train and test sets."
   ]
  },
  {
   "cell_type": "code",
   "execution_count": 13,
   "id": "058e1ea9",
   "metadata": {},
   "outputs": [],
   "source": [
    "# Let's keep 20 % of the data for testing purposes\n",
    "test_size = .20\n",
    "random_state = 42\n",
    "# Use for testing later and don't touch: X_test_base / y_test_base\n",
    "X_train, X_test, y_train, y_test = cross_validation.train_test_split(\n",
    "    X,y, test_size = test_size, random_state = random_state)"
   ]
  },
  {
   "cell_type": "code",
   "execution_count": 14,
   "id": "09f92246",
   "metadata": {},
   "outputs": [
    {
     "data": {
      "text/plain": [
       "(477510, 24)"
      ]
     },
     "execution_count": 14,
     "metadata": {},
     "output_type": "execute_result"
    }
   ],
   "source": [
    "X_train.shape"
   ]
  },
  {
   "cell_type": "code",
   "execution_count": 15,
   "id": "13a3b302",
   "metadata": {},
   "outputs": [
    {
     "data": {
      "text/plain": [
       "(119378, 24)"
      ]
     },
     "execution_count": 15,
     "metadata": {},
     "output_type": "execute_result"
    }
   ],
   "source": [
    "X_test.shape"
   ]
  },
  {
   "cell_type": "markdown",
   "id": "3916f8e7",
   "metadata": {},
   "source": [
    "## <CENTER><U> 8. BUILDING MODELS AND GENERATING PREDICTIONS</CENTER></U>"
   ]
  },
  {
   "cell_type": "code",
   "execution_count": 16,
   "id": "2579a415",
   "metadata": {},
   "outputs": [
    {
     "name": "stdout",
     "output_type": "stream",
     "text": [
      "Training and Testing  LinearSVC ...\n",
      "Average CV performance for LinearSVC: 0.706838 (in 51.4712 seconds)\n",
      "Training and Testing  LogisticRegression ...\n",
      "Average CV performance for LogisticRegression: 0.87083 (in 1.37944 seconds)\n",
      "Training and Testing  DecisionTreeClassifier ...\n",
      "Average CV performance for DecisionTreeClassifier: 0.980264 (in 4.15367 seconds)\n",
      "Training and Testing  RandomForestClassifier ...\n",
      "Average CV performance for RandomForestClassifier: 0.991891 (in 55.5053 seconds)\n",
      "Training and Testing  GaussianNB ...\n",
      "Average CV performance for GaussianNB: 0.842257 (in 0.303109 seconds)\n",
      "Training and Testing  KNeighborsClassifier ...\n",
      "Average CV performance for KNeighborsClassifier: 0.967599 (in 98.7752 seconds)\n"
     ]
    }
   ],
   "source": [
    "cfd_dict_base = {}\n",
    "cfd_report_base = []\n",
    "cfd_feature_relevance_base = []\n",
    "for cfd in [LinearSVC(random_state = random_state),\n",
    "            LogisticRegression(random_state = random_state),\n",
    "            DecisionTreeClassifier(random_state = random_state),\n",
    "            RandomForestClassifier(random_state = random_state),\n",
    "            GaussianNB(),\n",
    "            KNeighborsClassifier(n_neighbors = 3)]:\n",
    "    # Extract name of estimator\n",
    "    cfd_name = cfd.__class__.__name__\n",
    "    print (\"Training and Testing \", cfd_name, \"...\")\n",
    "    # Fit model on training data\n",
    "    cfd_dict_base[cfd_name] = cfd.fit(X_train, y_train)\n",
    "    # Predict based on it\n",
    "    # y_pred = clf.predict(X_train)\n",
    "    \n",
    "    # Perform cross validation\n",
    "    start = time()\n",
    "    X_s, y_s = shuffle(X_test, y_test)\n",
    "    scores = cross_validation.cross_val_score(cfd, X_s, y_s, cv=5, scoring='accuracy')\n",
    "    end = time()\n",
    "    duration = end - start\n",
    "    print (\"Average CV performance for {}: {:.6} (in {:.6} seconds)\".format(cfd_name, scores.mean(), duration))\n",
    "    cfd_report_base.append([cfd_name, scores.mean(), duration])\n",
    "\n",
    "    # Sample Store feature relevance information \n",
    "    if cfd_name in [\"RandomForestClassifier\", \"DecisionTreeClassifier\"]:\n",
    "        cfd_feature_relevance_base.append(cfd.feature_importances_.tolist())\n",
    "    elif cfd_name == \"LinearSVC\":\n",
    "        cfd_feature_relevance_base.append(cfd.coef_[0].tolist())\n",
    "# Store information in list for better visibility\n",
    "cfd_report_base = pd.DataFrame(cfd_report_base, columns=['classifier', 'Train_accuracy', 'Train_time'])"
   ]
  },
  {
   "cell_type": "code",
   "execution_count": 17,
   "id": "5c2927e4",
   "metadata": {
    "scrolled": true
   },
   "outputs": [
    {
     "data": {
      "text/html": [
       "<div>\n",
       "<style scoped>\n",
       "    .dataframe tbody tr th:only-of-type {\n",
       "        vertical-align: middle;\n",
       "    }\n",
       "\n",
       "    .dataframe tbody tr th {\n",
       "        vertical-align: top;\n",
       "    }\n",
       "\n",
       "    .dataframe thead th {\n",
       "        text-align: right;\n",
       "    }\n",
       "</style>\n",
       "<table border=\"1\" class=\"dataframe\">\n",
       "  <thead>\n",
       "    <tr style=\"text-align: right;\">\n",
       "      <th></th>\n",
       "      <th>classifier</th>\n",
       "      <th>Train_accuracy</th>\n",
       "      <th>Train_time</th>\n",
       "    </tr>\n",
       "  </thead>\n",
       "  <tbody>\n",
       "    <tr>\n",
       "      <th>0</th>\n",
       "      <td>LinearSVC</td>\n",
       "      <td>0.706838</td>\n",
       "      <td>51.471215</td>\n",
       "    </tr>\n",
       "    <tr>\n",
       "      <th>1</th>\n",
       "      <td>LogisticRegression</td>\n",
       "      <td>0.870830</td>\n",
       "      <td>1.379441</td>\n",
       "    </tr>\n",
       "    <tr>\n",
       "      <th>2</th>\n",
       "      <td>DecisionTreeClassifier</td>\n",
       "      <td>0.980264</td>\n",
       "      <td>4.153667</td>\n",
       "    </tr>\n",
       "    <tr>\n",
       "      <th>3</th>\n",
       "      <td>RandomForestClassifier</td>\n",
       "      <td>0.991891</td>\n",
       "      <td>55.505279</td>\n",
       "    </tr>\n",
       "    <tr>\n",
       "      <th>4</th>\n",
       "      <td>GaussianNB</td>\n",
       "      <td>0.842257</td>\n",
       "      <td>0.303109</td>\n",
       "    </tr>\n",
       "    <tr>\n",
       "      <th>5</th>\n",
       "      <td>KNeighborsClassifier</td>\n",
       "      <td>0.967599</td>\n",
       "      <td>98.775232</td>\n",
       "    </tr>\n",
       "  </tbody>\n",
       "</table>\n",
       "</div>"
      ],
      "text/plain": [
       "               classifier  Train_accuracy  Train_time\n",
       "0               LinearSVC        0.706838   51.471215\n",
       "1      LogisticRegression        0.870830    1.379441\n",
       "2  DecisionTreeClassifier        0.980264    4.153667\n",
       "3  RandomForestClassifier        0.991891   55.505279\n",
       "4              GaussianNB        0.842257    0.303109\n",
       "5    KNeighborsClassifier        0.967599   98.775232"
      ]
     },
     "execution_count": 17,
     "metadata": {},
     "output_type": "execute_result"
    }
   ],
   "source": [
    "cfd_report_base"
   ]
  },
  {
   "cell_type": "markdown",
   "id": "5f436ed6",
   "metadata": {},
   "source": [
    "Random Forest and decision tree appears to be overfitted Hence reducing the tree depth and passing through bagging classifier to reduce the overfitting"
   ]
  },
  {
   "cell_type": "markdown",
   "id": "0dbd895c",
   "metadata": {},
   "source": [
    "### <b><U> BAGGING:"
   ]
  },
  {
   "cell_type": "markdown",
   "id": "d256c92a",
   "metadata": {},
   "source": [
    "#### <B>RANDOM FOREST:"
   ]
  },
  {
   "cell_type": "code",
   "execution_count": 5,
   "id": "afeedb33",
   "metadata": {},
   "outputs": [
    {
     "name": "stdout",
     "output_type": "stream",
     "text": [
      "Training and Testing  RandomForestClassifier ...\n",
      "Average CV performance for RandomForestClassifier After Bagging:  0.9206135133776743\n"
     ]
    }
   ],
   "source": [
    "print(\"Training and Testing  RandomForestClassifier ...\")\n",
    "print(\"Average CV performance for RandomForestClassifier After Bagging:  0.9206135133776743\")"
   ]
  },
  {
   "cell_type": "code",
   "execution_count": 18,
   "id": "c6cf0937",
   "metadata": {},
   "outputs": [],
   "source": [
    "rf = RandomForestClassifier(max_depth=10)   ## Random Forest Classifier \n",
    "bag_clf_rf = BaggingClassifier(base_estimator=rf,\n",
    "                            bootstrap=True, n_jobs=-1,\n",
    "                            random_state=42)"
   ]
  },
  {
   "cell_type": "code",
   "execution_count": 19,
   "id": "4ba2c792",
   "metadata": {},
   "outputs": [
    {
     "data": {
      "text/plain": [
       "(0.9211618604845971, 0.9206135133776743)"
      ]
     },
     "execution_count": 19,
     "metadata": {},
     "output_type": "execute_result"
    }
   ],
   "source": [
    "bag_clf_rf.fit(X_train, y_train)\n",
    "bag_clf_rf.score(X_train,y_train),bag_clf_rf.score(X_test,y_test)     ## Score train and test data"
   ]
  },
  {
   "cell_type": "code",
   "execution_count": 20,
   "id": "38b05735",
   "metadata": {},
   "outputs": [
    {
     "name": "stdout",
     "output_type": "stream",
     "text": [
      "0.9206135133776743\n"
     ]
    }
   ],
   "source": [
    "y_pred1 = bag_clf_rf.predict(X_test)\n",
    "from sklearn.metrics import accuracy_score\n",
    "print(accuracy_score(y_test, y_pred1)) ## Accuracy of the prediction data "
   ]
  },
  {
   "cell_type": "markdown",
   "id": "68a63446",
   "metadata": {},
   "source": [
    "#### DECISION TREE:"
   ]
  },
  {
   "cell_type": "code",
   "execution_count": 21,
   "id": "2ff11d1d",
   "metadata": {},
   "outputs": [],
   "source": [
    "df = DecisionTreeClassifier(max_depth=10)   ## Random Forest Classifier\n",
    "bag_clf_df = BaggingClassifier(base_estimator=df,\n",
    "                            bootstrap=True, n_jobs=-1,\n",
    "                            random_state=42)"
   ]
  },
  {
   "cell_type": "code",
   "execution_count": 22,
   "id": "aa3f32f0",
   "metadata": {},
   "outputs": [
    {
     "data": {
      "text/plain": [
       "(0.9351217775543967, 0.9352728308398532)"
      ]
     },
     "execution_count": 22,
     "metadata": {},
     "output_type": "execute_result"
    }
   ],
   "source": [
    "bag_clf_df.fit(X_train, y_train)\n",
    "bag_clf_df.score(X_train,y_train),bag_clf_df.score(X_test,y_test)     ## Score train and test data"
   ]
  },
  {
   "cell_type": "code",
   "execution_count": 23,
   "id": "01842403",
   "metadata": {},
   "outputs": [
    {
     "name": "stdout",
     "output_type": "stream",
     "text": [
      "0.9352728308398532\n"
     ]
    }
   ],
   "source": [
    "y_pred1 = bag_clf_df.predict(X_test)\n",
    "from sklearn.metrics import accuracy_score\n",
    "print(accuracy_score(y_test, y_pred1)) ## Accuracy of the prediction data "
   ]
  },
  {
   "cell_type": "markdown",
   "id": "bcb43ded",
   "metadata": {},
   "source": [
    "## <B><U><CENTER> 9. ROC CURVE ANALYSIS - SUPERVISED MODELS"
   ]
  },
  {
   "cell_type": "code",
   "execution_count": 24,
   "id": "92c4e3a9",
   "metadata": {},
   "outputs": [],
   "source": [
    "# Import the classifiers\n",
    "from sklearn.linear_model import LogisticRegression\n",
    "from sklearn.tree import DecisionTreeClassifier\n",
    "from sklearn.ensemble import RandomForestClassifier\n",
    "from sklearn.svm import LinearSVC, SVC\n",
    "from sklearn.metrics import roc_curve, roc_auc_score\n",
    "from sklearn.calibration import CalibratedClassifierCV\n",
    "from sklearn.neighbors import KNeighborsClassifier\n",
    "from sklearn.naive_bayes import GaussianNB"
   ]
  },
  {
   "cell_type": "code",
   "execution_count": 25,
   "id": "eefd4edf",
   "metadata": {},
   "outputs": [
    {
     "name": "stdout",
     "output_type": "stream",
     "text": [
      "Training and Testing  LogisticRegression(random_state=42) ...\n",
      "Training and Testing  DecisionTreeClassifier(max_depth=8, random_state=42) ...\n",
      "Training and Testing  RandomForestClassifier(max_depth=8, random_state=42) ...\n",
      "Training and Testing  LinearSVC(random_state=42) ...\n",
      "Training and Testing  GaussianNB() ...\n"
     ]
    }
   ],
   "source": [
    "# Instantiate the classfiers and make a list\n",
    "classifiers = [LogisticRegression(random_state=42), \n",
    "               DecisionTreeClassifier(max_depth=8,random_state=42),\n",
    "               RandomForestClassifier(max_depth=8,random_state=42),\n",
    "               LinearSVC(random_state=42),\n",
    "               GaussianNB(),\n",
    "               #KNeighborsClassifier(n_neighbors = 3)\n",
    "              ]\n",
    "\n",
    "# Define a result table as a DataFrame\n",
    "result_table = pd.DataFrame(columns=['classifiers', 'fpr','tpr','auc'])\n",
    "\n",
    "# Train the models and record the results\n",
    "for cls in classifiers:\n",
    "    print (\"Training and Testing \", cls, \"...\")\n",
    "    clf = CalibratedClassifierCV(cls)\n",
    "    model = clf.fit(X_train, y_train)\n",
    "    yproba = model.predict_proba(X_test)[::,1]\n",
    "    \n",
    "    fpr, tpr, _ = roc_curve(y_test,  yproba)\n",
    "    auc = roc_auc_score(y_test, yproba)\n",
    "    \n",
    "    result_table = result_table.append({'classifiers':cls.__class__.__name__,\n",
    "                                        'fpr':fpr, \n",
    "                                        'tpr':tpr, \n",
    "                                        'auc':auc}, ignore_index=True)\n",
    "    \n",
    "result_table.set_index('classifiers', inplace=True)\n",
    "#print(result_table)"
   ]
  },
  {
   "cell_type": "code",
   "execution_count": 26,
   "id": "cbcf97b2",
   "metadata": {},
   "outputs": [
    {
     "data": {
      "image/png": "[encoded data removed]",
      "text/plain": [
       "<Figure size 576x432 with 1 Axes>"
      ]
     },
     "metadata": {
      "needs_background": "light"
     },
     "output_type": "display_data"
    }
   ],
   "source": [
    "fig = plt.figure(figsize=(8,6))\n",
    "\n",
    "for i in result_table.index:\n",
    "    plt.plot(result_table.loc[i]['fpr'], \n",
    "             result_table.loc[i]['tpr'], \n",
    "             label=\"{}, AUC={:.3f}\".format(i, result_table.loc[i]['auc']))    \n",
    "plt.plot([0,1], [0,1], color='orange', linestyle='--')\n",
    "plt.xticks(np.arange(0.0, 1.1, step=0.1))\n",
    "plt.xlabel(\"False Positive Rate\", fontsize=15)\n",
    "plt.yticks(np.arange(0.0, 1.1, step=0.1))\n",
    "plt.ylabel(\"True Positive Rate\", fontsize=15)\n",
    "plt.title('ROC Curve Analysis', fontweight='bold', fontsize=15)\n",
    "plt.legend(prop={'size':13}, loc='lower right')\n",
    "plt.show()"
   ]
  },
  {
   "cell_type": "code",
   "execution_count": 28,
   "id": "7a546d22",
   "metadata": {},
   "outputs": [
    {
     "data": {
      "text/html": [
       "<div>\n",
       "<style scoped>\n",
       "    .dataframe tbody tr th:only-of-type {\n",
       "        vertical-align: middle;\n",
       "    }\n",
       "\n",
       "    .dataframe tbody tr th {\n",
       "        vertical-align: top;\n",
       "    }\n",
       "\n",
       "    .dataframe thead th {\n",
       "        text-align: right;\n",
       "    }\n",
       "</style>\n",
       "<table border=\"1\" class=\"dataframe\">\n",
       "  <thead>\n",
       "    <tr style=\"text-align: right;\">\n",
       "      <th></th>\n",
       "      <th>auc</th>\n",
       "    </tr>\n",
       "    <tr>\n",
       "      <th>classifiers</th>\n",
       "      <th></th>\n",
       "    </tr>\n",
       "  </thead>\n",
       "  <tbody>\n",
       "    <tr>\n",
       "      <th>LogisticRegression</th>\n",
       "      <td>0.901732</td>\n",
       "    </tr>\n",
       "    <tr>\n",
       "      <th>DecisionTreeClassifier</th>\n",
       "      <td>0.970223</td>\n",
       "    </tr>\n",
       "    <tr>\n",
       "      <th>RandomForestClassifier</th>\n",
       "      <td>0.985842</td>\n",
       "    </tr>\n",
       "    <tr>\n",
       "      <th>LinearSVC</th>\n",
       "      <td>0.907016</td>\n",
       "    </tr>\n",
       "    <tr>\n",
       "      <th>GaussianNB</th>\n",
       "      <td>0.895889</td>\n",
       "    </tr>\n",
       "  </tbody>\n",
       "</table>\n",
       "</div>"
      ],
      "text/plain": [
       "                             auc\n",
       "classifiers                     \n",
       "LogisticRegression      0.901732\n",
       "DecisionTreeClassifier  0.970223\n",
       "RandomForestClassifier  0.985842\n",
       "LinearSVC               0.907016\n",
       "GaussianNB              0.895889"
      ]
     },
     "execution_count": 28,
     "metadata": {},
     "output_type": "execute_result"
    }
   ],
   "source": [
    "supervised_result=result_table.drop(result_table.columns[[0,1]], axis=1)\n",
    "supervised_result"
   ]
  },
  {
   "cell_type": "code",
   "execution_count": null,
   "id": "9d7a9458",
   "metadata": {},
   "outputs": [],
   "source": []
  }
 ],
 "metadata": {
  "kernelspec": {
   "display_name": "Python 3 (ipykernel)",
   "language": "python",
   "name": "python3"
  },
  "language_info": {
   "codemirror_mode": {
    "name": "ipython",
    "version": 3
   },
   "file_extension": ".py",
   "mimetype": "text/x-python",
   "name": "python",
   "nbconvert_exporter": "python",
   "pygments_lexer": "ipython3",
   "version": "3.9.7"
  }
 },
 "nbformat": 4,
 "nbformat_minor": 5
}
