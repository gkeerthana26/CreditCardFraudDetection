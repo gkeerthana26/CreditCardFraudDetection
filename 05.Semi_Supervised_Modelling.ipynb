{
 "cells": [
  {
   "cell_type": "markdown",
   "id": "3b760218",
   "metadata": {},
   "source": [
    "# <CENTER><U> 1. IMPORTING BASIC NECESSARY PACKAGES</U></CENTER>"
   ]
  },
  {
   "cell_type": "code",
   "execution_count": 1,
   "id": "c67b4c7c",
   "metadata": {
    "scrolled": false
   },
   "outputs": [
    {
     "name": "stdout",
     "output_type": "stream",
     "text": [
      "Requirement already satisfied: pandas_profiling in c:\\users\\gayus\\anaconda3\\lib\\site-packages (3.3.0)\n",
      "Requirement already satisfied: tqdm<4.65,>=4.48.2 in c:\\users\\gayus\\anaconda3\\lib\\site-packages (from pandas_profiling) (4.62.3)\n",
      "Requirement already satisfied: htmlmin==0.1.12 in c:\\users\\gayus\\anaconda3\\lib\\site-packages (from pandas_profiling) (0.1.12)\n",
      "Requirement already satisfied: scipy<1.10,>=1.4.1 in c:\\users\\gayus\\anaconda3\\lib\\site-packages (from pandas_profiling) (1.7.1)\n",
      "Requirement already satisfied: tangled-up-in-unicode==0.2.0 in c:\\users\\gayus\\anaconda3\\lib\\site-packages (from pandas_profiling) (0.2.0)\n",
      "Requirement already satisfied: statsmodels<0.14,>=0.13.2 in c:\\users\\gayus\\anaconda3\\lib\\site-packages (from pandas_profiling) (0.13.2)\n",
      "Requirement already satisfied: matplotlib<3.6,>=3.2 in c:\\users\\gayus\\anaconda3\\lib\\site-packages (from pandas_profiling) (3.4.3)\n",
      "Requirement already satisfied: pydantic<1.10,>=1.8.1 in c:\\users\\gayus\\anaconda3\\lib\\site-packages (from pandas_profiling) (1.9.2)\n",
      "Requirement already satisfied: phik<0.13,>=0.11.1 in c:\\users\\gayus\\anaconda3\\lib\\site-packages (from pandas_profiling) (0.12.2)\n",
      "Requirement already satisfied: visions[type_image_path]==0.7.5 in c:\\users\\gayus\\anaconda3\\lib\\site-packages (from pandas_profiling) (0.7.5)\n",
      "Requirement already satisfied: missingno<0.6,>=0.4.2 in c:\\users\\gayus\\anaconda3\\lib\\site-packages (from pandas_profiling) (0.5.1)\n",
      "Requirement already satisfied: PyYAML<6.1,>=5.0.0 in c:\\users\\gayus\\anaconda3\\lib\\site-packages (from pandas_profiling) (6.0)\n",
      "Requirement already satisfied: joblib~=1.1.0 in c:\\users\\gayus\\anaconda3\\lib\\site-packages (from pandas_profiling) (1.1.0)\n",
      "Requirement already satisfied: jinja2<3.2,>=2.11.1 in c:\\users\\gayus\\anaconda3\\lib\\site-packages (from pandas_profiling) (2.11.3)\n",
      "Requirement already satisfied: requests<2.29,>=2.24.0 in c:\\users\\gayus\\anaconda3\\lib\\site-packages (from pandas_profiling) (2.26.0)\n",
      "Requirement already satisfied: numpy<1.24,>=1.16.0 in c:\\users\\gayus\\anaconda3\\lib\\site-packages (from pandas_profiling) (1.20.3)\n",
      "Requirement already satisfied: multimethod<1.9,>=1.4 in c:\\users\\gayus\\anaconda3\\lib\\site-packages (from pandas_profiling) (1.8)\n",
      "Requirement already satisfied: pandas!=1.4.0,<1.5,>1.1 in c:\\users\\gayus\\anaconda3\\lib\\site-packages (from pandas_profiling) (1.3.4)\n",
      "Requirement already satisfied: seaborn<0.12,>=0.10.1 in c:\\users\\gayus\\anaconda3\\lib\\site-packages (from pandas_profiling) (0.11.2)\n",
      "Requirement already satisfied: networkx>=2.4 in c:\\users\\gayus\\anaconda3\\lib\\site-packages (from visions[type_image_path]==0.7.5->pandas_profiling) (2.6.3)\n",
      "Requirement already satisfied: attrs>=19.3.0 in c:\\users\\gayus\\anaconda3\\lib\\site-packages (from visions[type_image_path]==0.7.5->pandas_profiling) (21.2.0)\n",
      "Requirement already satisfied: Pillow in c:\\users\\gayus\\anaconda3\\lib\\site-packages (from visions[type_image_path]==0.7.5->pandas_profiling) (8.4.0)\n",
      "Requirement already satisfied: imagehash in c:\\users\\gayus\\anaconda3\\lib\\site-packages (from visions[type_image_path]==0.7.5->pandas_profiling) (4.3.1)\n",
      "Requirement already satisfied: MarkupSafe>=0.23 in c:\\users\\gayus\\anaconda3\\lib\\site-packages (from jinja2<3.2,>=2.11.1->pandas_profiling) (1.1.1)\n",
      "Requirement already satisfied: pyparsing>=2.2.1 in c:\\users\\gayus\\anaconda3\\lib\\site-packages (from matplotlib<3.6,>=3.2->pandas_profiling) (3.0.4)\n",
      "Requirement already satisfied: python-dateutil>=2.7 in c:\\users\\gayus\\anaconda3\\lib\\site-packages (from matplotlib<3.6,>=3.2->pandas_profiling) (2.8.2)\n",
      "Requirement already satisfied: cycler>=0.10 in c:\\users\\gayus\\anaconda3\\lib\\site-packages (from matplotlib<3.6,>=3.2->pandas_profiling) (0.10.0)\n",
      "Requirement already satisfied: kiwisolver>=1.0.1 in c:\\users\\gayus\\anaconda3\\lib\\site-packages (from matplotlib<3.6,>=3.2->pandas_profiling) (1.3.1)\n",
      "Requirement already satisfied: six in c:\\users\\gayus\\anaconda3\\lib\\site-packages (from cycler>=0.10->matplotlib<3.6,>=3.2->pandas_profiling) (1.16.0)\n",
      "Requirement already satisfied: pytz>=2017.3 in c:\\users\\gayus\\anaconda3\\lib\\site-packages (from pandas!=1.4.0,<1.5,>1.1->pandas_profiling) (2021.3)\n",
      "Requirement already satisfied: typing-extensions>=3.7.4.3 in c:\\users\\gayus\\anaconda3\\lib\\site-packages (from pydantic<1.10,>=1.8.1->pandas_profiling) (3.10.0.2)\n",
      "Requirement already satisfied: certifi>=2017.4.17 in c:\\users\\gayus\\anaconda3\\lib\\site-packages (from requests<2.29,>=2.24.0->pandas_profiling) (2021.10.8)\n",
      "Requirement already satisfied: urllib3<1.27,>=1.21.1 in c:\\users\\gayus\\anaconda3\\lib\\site-packages (from requests<2.29,>=2.24.0->pandas_profiling) (1.26.7)\n",
      "Requirement already satisfied: charset-normalizer~=2.0.0 in c:\\users\\gayus\\anaconda3\\lib\\site-packages (from requests<2.29,>=2.24.0->pandas_profiling) (2.0.4)\n",
      "Requirement already satisfied: idna<4,>=2.5 in c:\\users\\gayus\\anaconda3\\lib\\site-packages (from requests<2.29,>=2.24.0->pandas_profiling) (3.2)\n",
      "Requirement already satisfied: patsy>=0.5.2 in c:\\users\\gayus\\anaconda3\\lib\\site-packages (from statsmodels<0.14,>=0.13.2->pandas_profiling) (0.5.2)\n",
      "Requirement already satisfied: packaging>=21.3 in c:\\users\\gayus\\anaconda3\\lib\\site-packages (from statsmodels<0.14,>=0.13.2->pandas_profiling) (21.3)\n",
      "Requirement already satisfied: colorama in c:\\users\\gayus\\anaconda3\\lib\\site-packages (from tqdm<4.65,>=4.48.2->pandas_profiling) (0.4.4)\n",
      "Requirement already satisfied: PyWavelets in c:\\users\\gayus\\anaconda3\\lib\\site-packages (from imagehash->visions[type_image_path]==0.7.5->pandas_profiling) (1.1.1)\n",
      "Note: you may need to restart the kernel to use updated packages.\n"
     ]
    }
   ],
   "source": [
    "pip install pandas_profiling"
   ]
  },
  {
   "cell_type": "code",
   "execution_count": 2,
   "id": "f2b8ceec",
   "metadata": {},
   "outputs": [],
   "source": [
    "import matplotlib.pyplot as plt\n",
    "from sklearn.metrics import classification_report,confusion_matrix\n",
    "from __future__ import division\n",
    "from sklearn.cluster import KMeans\n",
    "# Implement learning algorithms\n",
    "from sklearn.linear_model import LogisticRegression\n",
    "from sklearn.svm import LinearSVC, SVC\n",
    "from sklearn.ensemble import RandomForestClassifier\n",
    "from sklearn.tree import DecisionTreeClassifier\n",
    "from sklearn.neighbors import KNeighborsClassifier\n",
    "from sklearn.naive_bayes import GaussianNB\n",
    "from sklearn.metrics import f1_score\n",
    "from sklearn import model_selection as cross_validation\n",
    "from time import time\n",
    "from sklearn.utils import shuffle\n",
    "from sklearn.model_selection import KFold, cross_val_score, train_test_split\n",
    "import xgboost as xgb\n",
    "import xgboost as xgb\n",
    "plt.style.use(\"ggplot\")"
   ]
  },
  {
   "cell_type": "code",
   "execution_count": 3,
   "id": "49e5c84b",
   "metadata": {},
   "outputs": [],
   "source": [
    "import matplotlib.pyplot as plt\n",
    "%matplotlib inline\n",
    "import pandas as pd\n",
    "import numpy as np\n",
    "import seaborn as sns\n",
    "import plotly.express as px\n",
    "import xlrd\n",
    "import lifetimes\n",
    "import datetime\n",
    "import warnings\n",
    "warnings.filterwarnings(\"ignore\")\n",
    "np.random.seed(42)\n",
    "from datetime import datetime, timedelta,date"
   ]
  },
  {
   "cell_type": "code",
   "execution_count": 4,
   "id": "1b5e1aa2",
   "metadata": {},
   "outputs": [],
   "source": [
    "##Dataset Import:\n",
    "from sklearn import datasets\n",
    "from sklearn.datasets import load_iris\n",
    "\n",
    "## Importing Decision Tree Classifier\n",
    "from sklearn.tree import DecisionTreeClassifier\n",
    "\n",
    "##Importing ensemble and ML Models:\n",
    "from sklearn.ensemble import RandomForestClassifier, BaggingClassifier, GradientBoostingClassifier,AdaBoostClassifier\n",
    "from sklearn.ensemble import VotingClassifier\n",
    "from sklearn.linear_model import LogisticRegression\n",
    "from sklearn.svm import SVC\n",
    "\n",
    "\n",
    "import pandas_profiling\n",
    "##Importing sklearn model selection and metrics\n",
    "from sklearn import metrics\n",
    "from sklearn.metrics import confusion_matrix\n",
    "from sklearn.metrics import accuracy_score\n",
    "from sklearn.model_selection import train_test_split\n",
    "from sklearn.model_selection import cross_val_score, cross_val_predict\n",
    "from sklearn.metrics import classification_report"
   ]
  },
  {
   "cell_type": "markdown",
   "id": "8a99ef78",
   "metadata": {},
   "source": [
    "## <CENTER><U> 2. READING INPUT DATA </CENTER></U>`"
   ]
  },
  {
   "cell_type": "code",
   "execution_count": 5,
   "id": "07fb7d7e",
   "metadata": {},
   "outputs": [
    {
     "data": {
      "text/plain": [
       "amt                        300000\n",
       "zip                        300000\n",
       "lat                        300000\n",
       "long                       300000\n",
       "city_pop                   300000\n",
       "merch_lat                  300000\n",
       "merch_long                 300000\n",
       "age                        300000\n",
       "hour                       300000\n",
       "day                        300000\n",
       "month                      300000\n",
       "is_fraud                   300000\n",
       "category_food_dining       300000\n",
       "category_gas_transport     300000\n",
       "category_grocery_net       300000\n",
       "category_grocery_pos       300000\n",
       "category_health_fitness    300000\n",
       "category_home              300000\n",
       "category_kids_pets         300000\n",
       "category_misc_net          300000\n",
       "category_misc_pos          300000\n",
       "category_personal_care     300000\n",
       "category_shopping_net      300000\n",
       "category_shopping_pos      300000\n",
       "category_travel            300000\n",
       "dtype: int64"
      ]
     },
     "execution_count": 5,
     "metadata": {},
     "output_type": "execute_result"
    }
   ],
   "source": [
    "fraud = pd.read_csv('Data_Processing/FraudData_ValidationSet.csv')\n",
    "fraud.drop('Unnamed: 0',axis=1,inplace=True)\n",
    "fraud.count()"
   ]
  },
  {
   "cell_type": "markdown",
   "id": "50bbab9e",
   "metadata": {},
   "source": [
    "# <B><U><CENTER> PART 1: SUPERVISED EXECUTION"
   ]
  },
  {
   "cell_type": "markdown",
   "id": "91e64bfa",
   "metadata": {},
   "source": [
    "## <CENTER><U> 7. SPLITTING TEST AND TRAIN DATA</CENTER></U>"
   ]
  },
  {
   "cell_type": "code",
   "execution_count": 6,
   "id": "f2f652a7",
   "metadata": {
    "scrolled": true
   },
   "outputs": [
    {
     "data": {
      "text/html": [
       "<div>\n",
       "<style scoped>\n",
       "    .dataframe tbody tr th:only-of-type {\n",
       "        vertical-align: middle;\n",
       "    }\n",
       "\n",
       "    .dataframe tbody tr th {\n",
       "        vertical-align: top;\n",
       "    }\n",
       "\n",
       "    .dataframe thead th {\n",
       "        text-align: right;\n",
       "    }\n",
       "</style>\n",
       "<table border=\"1\" class=\"dataframe\">\n",
       "  <thead>\n",
       "    <tr style=\"text-align: right;\">\n",
       "      <th></th>\n",
       "      <th>amt</th>\n",
       "      <th>zip</th>\n",
       "      <th>lat</th>\n",
       "      <th>long</th>\n",
       "      <th>city_pop</th>\n",
       "      <th>merch_lat</th>\n",
       "      <th>merch_long</th>\n",
       "      <th>age</th>\n",
       "      <th>hour</th>\n",
       "      <th>day</th>\n",
       "      <th>...</th>\n",
       "      <th>category_grocery_pos</th>\n",
       "      <th>category_health_fitness</th>\n",
       "      <th>category_home</th>\n",
       "      <th>category_kids_pets</th>\n",
       "      <th>category_misc_net</th>\n",
       "      <th>category_misc_pos</th>\n",
       "      <th>category_personal_care</th>\n",
       "      <th>category_shopping_net</th>\n",
       "      <th>category_shopping_pos</th>\n",
       "      <th>category_travel</th>\n",
       "    </tr>\n",
       "  </thead>\n",
       "  <tbody>\n",
       "    <tr>\n",
       "      <th>0</th>\n",
       "      <td>167.42</td>\n",
       "      <td>93529</td>\n",
       "      <td>37.7773</td>\n",
       "      <td>-119.0825</td>\n",
       "      <td>633</td>\n",
       "      <td>38.492626</td>\n",
       "      <td>-118.677235</td>\n",
       "      <td>95</td>\n",
       "      <td>8</td>\n",
       "      <td>2</td>\n",
       "      <td>...</td>\n",
       "      <td>1</td>\n",
       "      <td>0</td>\n",
       "      <td>0</td>\n",
       "      <td>0</td>\n",
       "      <td>0</td>\n",
       "      <td>0</td>\n",
       "      <td>0</td>\n",
       "      <td>0</td>\n",
       "      <td>0</td>\n",
       "      <td>0</td>\n",
       "    </tr>\n",
       "    <tr>\n",
       "      <th>1</th>\n",
       "      <td>46.91</td>\n",
       "      <td>39769</td>\n",
       "      <td>33.3570</td>\n",
       "      <td>-89.0473</td>\n",
       "      <td>1923</td>\n",
       "      <td>33.193352</td>\n",
       "      <td>-90.017058</td>\n",
       "      <td>62</td>\n",
       "      <td>11</td>\n",
       "      <td>5</td>\n",
       "      <td>...</td>\n",
       "      <td>0</td>\n",
       "      <td>0</td>\n",
       "      <td>0</td>\n",
       "      <td>0</td>\n",
       "      <td>0</td>\n",
       "      <td>0</td>\n",
       "      <td>0</td>\n",
       "      <td>0</td>\n",
       "      <td>0</td>\n",
       "      <td>0</td>\n",
       "    </tr>\n",
       "    <tr>\n",
       "      <th>2</th>\n",
       "      <td>8.46</td>\n",
       "      <td>10504</td>\n",
       "      <td>41.1360</td>\n",
       "      <td>-73.7009</td>\n",
       "      <td>7987</td>\n",
       "      <td>41.493080</td>\n",
       "      <td>-74.290518</td>\n",
       "      <td>58</td>\n",
       "      <td>10</td>\n",
       "      <td>4</td>\n",
       "      <td>...</td>\n",
       "      <td>0</td>\n",
       "      <td>0</td>\n",
       "      <td>0</td>\n",
       "      <td>0</td>\n",
       "      <td>0</td>\n",
       "      <td>0</td>\n",
       "      <td>0</td>\n",
       "      <td>0</td>\n",
       "      <td>1</td>\n",
       "      <td>0</td>\n",
       "    </tr>\n",
       "    <tr>\n",
       "      <th>3</th>\n",
       "      <td>112.71</td>\n",
       "      <td>63665</td>\n",
       "      <td>37.3272</td>\n",
       "      <td>-91.0243</td>\n",
       "      <td>241</td>\n",
       "      <td>36.342555</td>\n",
       "      <td>-91.407343</td>\n",
       "      <td>48</td>\n",
       "      <td>18</td>\n",
       "      <td>4</td>\n",
       "      <td>...</td>\n",
       "      <td>0</td>\n",
       "      <td>0</td>\n",
       "      <td>1</td>\n",
       "      <td>0</td>\n",
       "      <td>0</td>\n",
       "      <td>0</td>\n",
       "      <td>0</td>\n",
       "      <td>0</td>\n",
       "      <td>0</td>\n",
       "      <td>0</td>\n",
       "    </tr>\n",
       "    <tr>\n",
       "      <th>4</th>\n",
       "      <td>56.41</td>\n",
       "      <td>64686</td>\n",
       "      <td>39.7417</td>\n",
       "      <td>-93.6289</td>\n",
       "      <td>271</td>\n",
       "      <td>39.435902</td>\n",
       "      <td>-93.064931</td>\n",
       "      <td>50</td>\n",
       "      <td>22</td>\n",
       "      <td>6</td>\n",
       "      <td>...</td>\n",
       "      <td>0</td>\n",
       "      <td>0</td>\n",
       "      <td>1</td>\n",
       "      <td>0</td>\n",
       "      <td>0</td>\n",
       "      <td>0</td>\n",
       "      <td>0</td>\n",
       "      <td>0</td>\n",
       "      <td>0</td>\n",
       "      <td>0</td>\n",
       "    </tr>\n",
       "  </tbody>\n",
       "</table>\n",
       "<p>5 rows × 25 columns</p>\n",
       "</div>"
      ],
      "text/plain": [
       "      amt    zip      lat      long  city_pop  merch_lat  merch_long  age  \\\n",
       "0  167.42  93529  37.7773 -119.0825       633  38.492626 -118.677235   95   \n",
       "1   46.91  39769  33.3570  -89.0473      1923  33.193352  -90.017058   62   \n",
       "2    8.46  10504  41.1360  -73.7009      7987  41.493080  -74.290518   58   \n",
       "3  112.71  63665  37.3272  -91.0243       241  36.342555  -91.407343   48   \n",
       "4   56.41  64686  39.7417  -93.6289       271  39.435902  -93.064931   50   \n",
       "\n",
       "   hour  day  ...  category_grocery_pos  category_health_fitness  \\\n",
       "0     8    2  ...                     1                        0   \n",
       "1    11    5  ...                     0                        0   \n",
       "2    10    4  ...                     0                        0   \n",
       "3    18    4  ...                     0                        0   \n",
       "4    22    6  ...                     0                        0   \n",
       "\n",
       "   category_home  category_kids_pets  category_misc_net  category_misc_pos  \\\n",
       "0              0                   0                  0                  0   \n",
       "1              0                   0                  0                  0   \n",
       "2              0                   0                  0                  0   \n",
       "3              1                   0                  0                  0   \n",
       "4              1                   0                  0                  0   \n",
       "\n",
       "   category_personal_care  category_shopping_net  category_shopping_pos  \\\n",
       "0                       0                      0                      0   \n",
       "1                       0                      0                      0   \n",
       "2                       0                      0                      1   \n",
       "3                       0                      0                      0   \n",
       "4                       0                      0                      0   \n",
       "\n",
       "   category_travel  \n",
       "0                0  \n",
       "1                0  \n",
       "2                0  \n",
       "3                0  \n",
       "4                0  \n",
       "\n",
       "[5 rows x 25 columns]"
      ]
     },
     "execution_count": 6,
     "metadata": {},
     "output_type": "execute_result"
    }
   ],
   "source": [
    "fraud.head(5)"
   ]
  },
  {
   "cell_type": "code",
   "execution_count": 7,
   "id": "731fb718",
   "metadata": {},
   "outputs": [
    {
     "data": {
      "text/plain": [
       "(300000, 25)"
      ]
     },
     "execution_count": 7,
     "metadata": {},
     "output_type": "execute_result"
    }
   ],
   "source": [
    "fraud.shape"
   ]
  },
  {
   "cell_type": "code",
   "execution_count": 8,
   "id": "7905f725",
   "metadata": {},
   "outputs": [],
   "source": [
    "#create X and y, X will be feature set and y is the label - LTV\n",
    "X = fraud.drop(['is_fraud'],axis=1)\n",
    "y = fraud['is_fraud']"
   ]
  },
  {
   "cell_type": "code",
   "execution_count": 9,
   "id": "47dcafb9",
   "metadata": {},
   "outputs": [],
   "source": [
    "fraud_part2=fraud"
   ]
  },
  {
   "cell_type": "markdown",
   "id": "f71ef3c5",
   "metadata": {},
   "source": [
    "# <B><U><CENTER> PART 2: SEMI SUPERVISED EXECUTION"
   ]
  },
  {
   "cell_type": "markdown",
   "id": "ab041f34",
   "metadata": {},
   "source": [
    "## <B><U><CENTER> 10. PRINCIPLE COMPONENT ANALYSIS"
   ]
  },
  {
   "cell_type": "code",
   "execution_count": 10,
   "id": "9975c7fe",
   "metadata": {},
   "outputs": [],
   "source": [
    "import matplotlib.pyplot as plt\n",
    "import matplotlib.cm as cm\n",
    "import pandas as pd\n",
    "import numpy as np\n",
    "from sklearn.decomposition import PCA as RandomizedPCA\n",
    "\n",
    "def pca_results(good_data, pca):\n",
    "    '''\n",
    "    Create a DataFrame of the PCA results\n",
    "    Includes dimension feature weights and explained variance\n",
    "    Visualizes the PCA results\n",
    "    '''\n",
    "\n",
    "    # Dimension indexing\n",
    "    dimensions = dimensions = ['Dimension {}'.format(i) for i in range(1,len(pca.components_)+1)]\n",
    "\n",
    "    # PCA components\n",
    "    components = pd.DataFrame(np.round(pca.components_, 4), columns = good_data.keys())\n",
    "    components.index = dimensions\n",
    "\n",
    "    # PCA explained variance\n",
    "    ratios = pca.explained_variance_ratio_.reshape(len(pca.components_), 1)\n",
    "    variance_ratios = pd.DataFrame(np.round(ratios, 4), columns = ['Explained Variance'])\n",
    "    variance_ratios.index = dimensions\n",
    "\n",
    "    # Create a bar plot visualization\n",
    "    fig, ax = plt.subplots(figsize = (20,20))\n",
    "\n",
    "    # Plot the feature weights as a function of the components\n",
    "    components.plot(ax = ax, kind = 'bar');\n",
    "    ax.set_ylabel(\"Feature Weights\",fontsize=25)\n",
    "    ax.set_xticklabels(dimensions, rotation=0,fontsize=25)\n",
    "\n",
    "\n",
    "    # Display the explained variance ratios\n",
    "    for i, ev in enumerate(pca.explained_variance_ratio_):\n",
    "        ax.text(i-0.40, ax.get_ylim()[1] + 0.05, \"Explained Variance\\n          %.4f\"%(ev))\n",
    "\n",
    "    # Return a concatenated DataFrame\n",
    "    return pd.concat([variance_ratios, components], axis = 1)"
   ]
  },
  {
   "cell_type": "code",
   "execution_count": 11,
   "id": "8e3e4c4c",
   "metadata": {},
   "outputs": [
    {
     "data": {
      "text/plain": [
       "amt                        float64\n",
       "zip                          int64\n",
       "lat                        float64\n",
       "long                       float64\n",
       "city_pop                     int64\n",
       "merch_lat                  float64\n",
       "merch_long                 float64\n",
       "age                          int64\n",
       "hour                         int64\n",
       "day                          int64\n",
       "month                        int64\n",
       "category_food_dining         int64\n",
       "category_gas_transport       int64\n",
       "category_grocery_net         int64\n",
       "category_grocery_pos         int64\n",
       "category_health_fitness      int64\n",
       "category_home                int64\n",
       "category_kids_pets           int64\n",
       "category_misc_net            int64\n",
       "category_misc_pos            int64\n",
       "category_personal_care       int64\n",
       "category_shopping_net        int64\n",
       "category_shopping_pos        int64\n",
       "category_travel              int64\n",
       "dtype: object"
      ]
     },
     "execution_count": 11,
     "metadata": {},
     "output_type": "execute_result"
    }
   ],
   "source": [
    "X.dtypes"
   ]
  },
  {
   "cell_type": "code",
   "execution_count": 12,
   "id": "5c3f2e8e",
   "metadata": {},
   "outputs": [
    {
     "data": {
      "text/plain": [
       "dtype('int64')"
      ]
     },
     "execution_count": 12,
     "metadata": {},
     "output_type": "execute_result"
    }
   ],
   "source": [
    "y.dtypes"
   ]
  },
  {
   "cell_type": "code",
   "execution_count": 13,
   "id": "16670282",
   "metadata": {},
   "outputs": [
    {
     "data": {
      "image/png": "[encoded data removed]",
      "text/plain": [
       "<Figure size 1440x1440 with 1 Axes>"
      ]
     },
     "metadata": {
      "needs_background": "light"
     },
     "output_type": "display_data"
    }
   ],
   "source": [
    "from sklearn.decomposition import PCA \n",
    "\n",
    "pca_data = X\n",
    "pca = PCA(n_components=3)\n",
    "pca = pca.fit(pca_data)\n",
    "\n",
    "# Generate PCA results plot\n",
    "pca_results = pca_results(pca_data, pca)"
   ]
  },
  {
   "cell_type": "code",
   "execution_count": 14,
   "id": "bafeac7a",
   "metadata": {},
   "outputs": [
    {
     "data": {
      "text/html": [
       "<div>\n",
       "<style scoped>\n",
       "    .dataframe tbody tr th:only-of-type {\n",
       "        vertical-align: middle;\n",
       "    }\n",
       "\n",
       "    .dataframe tbody tr th {\n",
       "        vertical-align: top;\n",
       "    }\n",
       "\n",
       "    .dataframe thead th {\n",
       "        text-align: right;\n",
       "    }\n",
       "</style>\n",
       "<table border=\"1\" class=\"dataframe\">\n",
       "  <thead>\n",
       "    <tr style=\"text-align: right;\">\n",
       "      <th></th>\n",
       "      <th>Add Dimension 1</th>\n",
       "      <th>Add Dimension 2</th>\n",
       "      <th>Add Dimension 3</th>\n",
       "    </tr>\n",
       "  </thead>\n",
       "  <tbody>\n",
       "    <tr>\n",
       "      <th>Combined Explained Variance</th>\n",
       "      <td>0.992209</td>\n",
       "      <td>1.0</td>\n",
       "      <td>1.0</td>\n",
       "    </tr>\n",
       "  </tbody>\n",
       "</table>\n",
       "</div>"
      ],
      "text/plain": [
       "                             Add Dimension 1  Add Dimension 2  Add Dimension 3\n",
       "Combined Explained Variance         0.992209              1.0              1.0"
      ]
     },
     "execution_count": 14,
     "metadata": {},
     "output_type": "execute_result"
    }
   ],
   "source": [
    "pd.DataFrame(data=[np.cumsum(pca.explained_variance_ratio_)], columns=\"Add \" + \n",
    "             pca_results.index.values, index=['Combined Explained Variance'])"
   ]
  },
  {
   "cell_type": "code",
   "execution_count": 15,
   "id": "8d63163d",
   "metadata": {
    "scrolled": true
   },
   "outputs": [
    {
     "data": {
      "text/html": [
       "<div>\n",
       "<style scoped>\n",
       "    .dataframe tbody tr th:only-of-type {\n",
       "        vertical-align: middle;\n",
       "    }\n",
       "\n",
       "    .dataframe tbody tr th {\n",
       "        vertical-align: top;\n",
       "    }\n",
       "\n",
       "    .dataframe thead th {\n",
       "        text-align: right;\n",
       "    }\n",
       "</style>\n",
       "<table border=\"1\" class=\"dataframe\">\n",
       "  <thead>\n",
       "    <tr style=\"text-align: right;\">\n",
       "      <th></th>\n",
       "      <th>Explained Variance</th>\n",
       "      <th>amt</th>\n",
       "      <th>zip</th>\n",
       "      <th>lat</th>\n",
       "      <th>long</th>\n",
       "      <th>city_pop</th>\n",
       "      <th>merch_lat</th>\n",
       "      <th>merch_long</th>\n",
       "      <th>age</th>\n",
       "      <th>hour</th>\n",
       "      <th>...</th>\n",
       "      <th>category_grocery_pos</th>\n",
       "      <th>category_health_fitness</th>\n",
       "      <th>category_home</th>\n",
       "      <th>category_kids_pets</th>\n",
       "      <th>category_misc_net</th>\n",
       "      <th>category_misc_pos</th>\n",
       "      <th>category_personal_care</th>\n",
       "      <th>category_shopping_net</th>\n",
       "      <th>category_shopping_pos</th>\n",
       "      <th>category_travel</th>\n",
       "    </tr>\n",
       "  </thead>\n",
       "  <tbody>\n",
       "    <tr>\n",
       "      <th>Dimension 1</th>\n",
       "      <td>0.9922</td>\n",
       "      <td>0.0</td>\n",
       "      <td>0.0071</td>\n",
       "      <td>-0.0</td>\n",
       "      <td>-0.0000</td>\n",
       "      <td>1.0000</td>\n",
       "      <td>-0.0</td>\n",
       "      <td>-0.0000</td>\n",
       "      <td>-0.0000</td>\n",
       "      <td>0.0000</td>\n",
       "      <td>...</td>\n",
       "      <td>0.0000</td>\n",
       "      <td>-0.0</td>\n",
       "      <td>0.0</td>\n",
       "      <td>-0.0</td>\n",
       "      <td>-0.0</td>\n",
       "      <td>0.0</td>\n",
       "      <td>-0.0000</td>\n",
       "      <td>0.0</td>\n",
       "      <td>0.0</td>\n",
       "      <td>-0.0</td>\n",
       "    </tr>\n",
       "    <tr>\n",
       "      <th>Dimension 2</th>\n",
       "      <td>0.0078</td>\n",
       "      <td>-0.0</td>\n",
       "      <td>-1.0000</td>\n",
       "      <td>0.0</td>\n",
       "      <td>0.0005</td>\n",
       "      <td>0.0071</td>\n",
       "      <td>0.0</td>\n",
       "      <td>0.0005</td>\n",
       "      <td>-0.0000</td>\n",
       "      <td>-0.0000</td>\n",
       "      <td>...</td>\n",
       "      <td>0.0000</td>\n",
       "      <td>-0.0</td>\n",
       "      <td>0.0</td>\n",
       "      <td>-0.0</td>\n",
       "      <td>-0.0</td>\n",
       "      <td>0.0</td>\n",
       "      <td>0.0000</td>\n",
       "      <td>-0.0</td>\n",
       "      <td>0.0</td>\n",
       "      <td>0.0</td>\n",
       "    </tr>\n",
       "    <tr>\n",
       "      <th>Dimension 3</th>\n",
       "      <td>0.0000</td>\n",
       "      <td>1.0</td>\n",
       "      <td>-0.0000</td>\n",
       "      <td>-0.0</td>\n",
       "      <td>0.0001</td>\n",
       "      <td>-0.0000</td>\n",
       "      <td>-0.0</td>\n",
       "      <td>0.0001</td>\n",
       "      <td>-0.0008</td>\n",
       "      <td>-0.0011</td>\n",
       "      <td>...</td>\n",
       "      <td>0.0002</td>\n",
       "      <td>-0.0</td>\n",
       "      <td>-0.0</td>\n",
       "      <td>-0.0</td>\n",
       "      <td>0.0</td>\n",
       "      <td>-0.0</td>\n",
       "      <td>-0.0001</td>\n",
       "      <td>0.0</td>\n",
       "      <td>0.0</td>\n",
       "      <td>0.0</td>\n",
       "    </tr>\n",
       "  </tbody>\n",
       "</table>\n",
       "<p>3 rows × 25 columns</p>\n",
       "</div>"
      ],
      "text/plain": [
       "             Explained Variance  amt     zip  lat    long  city_pop  \\\n",
       "Dimension 1              0.9922  0.0  0.0071 -0.0 -0.0000    1.0000   \n",
       "Dimension 2              0.0078 -0.0 -1.0000  0.0  0.0005    0.0071   \n",
       "Dimension 3              0.0000  1.0 -0.0000 -0.0  0.0001   -0.0000   \n",
       "\n",
       "             merch_lat  merch_long     age    hour  ...  category_grocery_pos  \\\n",
       "Dimension 1       -0.0     -0.0000 -0.0000  0.0000  ...                0.0000   \n",
       "Dimension 2        0.0      0.0005 -0.0000 -0.0000  ...                0.0000   \n",
       "Dimension 3       -0.0      0.0001 -0.0008 -0.0011  ...                0.0002   \n",
       "\n",
       "             category_health_fitness  category_home  category_kids_pets  \\\n",
       "Dimension 1                     -0.0            0.0                -0.0   \n",
       "Dimension 2                     -0.0            0.0                -0.0   \n",
       "Dimension 3                     -0.0           -0.0                -0.0   \n",
       "\n",
       "             category_misc_net  category_misc_pos  category_personal_care  \\\n",
       "Dimension 1               -0.0                0.0                 -0.0000   \n",
       "Dimension 2               -0.0                0.0                  0.0000   \n",
       "Dimension 3                0.0               -0.0                 -0.0001   \n",
       "\n",
       "             category_shopping_net  category_shopping_pos  category_travel  \n",
       "Dimension 1                    0.0                    0.0             -0.0  \n",
       "Dimension 2                   -0.0                    0.0              0.0  \n",
       "Dimension 3                    0.0                    0.0              0.0  \n",
       "\n",
       "[3 rows x 25 columns]"
      ]
     },
     "execution_count": 15,
     "metadata": {},
     "output_type": "execute_result"
    }
   ],
   "source": [
    "pca_results.head()"
   ]
  },
  {
   "cell_type": "code",
   "execution_count": 16,
   "id": "d369e415",
   "metadata": {},
   "outputs": [],
   "source": [
    "from sklearn.decomposition import PCA\n",
    "pca = PCA(n_components=3)\n",
    "pca = pca.fit(pca_data)\n",
    "\n",
    "reduced_data = pca.transform(pca_data)\n",
    "reduced_data = pd.DataFrame(reduced_data, columns = ['Dimension 1', 'Dimension 2', 'Dimension 3'])"
   ]
  },
  {
   "cell_type": "code",
   "execution_count": 17,
   "id": "39103d84",
   "metadata": {},
   "outputs": [
    {
     "data": {
      "text/html": [
       "<div>\n",
       "<style scoped>\n",
       "    .dataframe tbody tr th:only-of-type {\n",
       "        vertical-align: middle;\n",
       "    }\n",
       "\n",
       "    .dataframe tbody tr th {\n",
       "        vertical-align: top;\n",
       "    }\n",
       "\n",
       "    .dataframe thead th {\n",
       "        text-align: right;\n",
       "    }\n",
       "</style>\n",
       "<table border=\"1\" class=\"dataframe\">\n",
       "  <thead>\n",
       "    <tr style=\"text-align: right;\">\n",
       "      <th></th>\n",
       "      <th>Dimension 1</th>\n",
       "      <th>Dimension 2</th>\n",
       "      <th>Dimension 3</th>\n",
       "    </tr>\n",
       "  </thead>\n",
       "  <tbody>\n",
       "    <tr>\n",
       "      <th>0</th>\n",
       "      <td>-87563.378808</td>\n",
       "      <td>-45255.416549</td>\n",
       "      <td>96.197083</td>\n",
       "    </tr>\n",
       "    <tr>\n",
       "      <th>1</th>\n",
       "      <td>-86653.502654</td>\n",
       "      <td>8512.379884</td>\n",
       "      <td>-22.588324</td>\n",
       "    </tr>\n",
       "    <tr>\n",
       "      <th>2</th>\n",
       "      <td>-80796.562355</td>\n",
       "      <td>37819.531487</td>\n",
       "      <td>-60.130184</td>\n",
       "    </tr>\n",
       "    <tr>\n",
       "      <th>3</th>\n",
       "      <td>-88166.512016</td>\n",
       "      <td>-15394.913020</td>\n",
       "      <td>42.467375</td>\n",
       "    </tr>\n",
       "    <tr>\n",
       "      <th>4</th>\n",
       "      <td>-88129.294397</td>\n",
       "      <td>-16415.675293</td>\n",
       "      <td>-13.871488</td>\n",
       "    </tr>\n",
       "  </tbody>\n",
       "</table>\n",
       "</div>"
      ],
      "text/plain": [
       "    Dimension 1   Dimension 2  Dimension 3\n",
       "0 -87563.378808 -45255.416549    96.197083\n",
       "1 -86653.502654   8512.379884   -22.588324\n",
       "2 -80796.562355  37819.531487   -60.130184\n",
       "3 -88166.512016 -15394.913020    42.467375\n",
       "4 -88129.294397 -16415.675293   -13.871488"
      ]
     },
     "execution_count": 17,
     "metadata": {},
     "output_type": "execute_result"
    }
   ],
   "source": [
    "reduced_data.head()"
   ]
  },
  {
   "cell_type": "code",
   "execution_count": 18,
   "id": "31b2e593",
   "metadata": {},
   "outputs": [
    {
     "data": {
      "text/plain": [
       "Dimension 1    300000\n",
       "Dimension 2    300000\n",
       "Dimension 3    300000\n",
       "dtype: int64"
      ]
     },
     "execution_count": 18,
     "metadata": {},
     "output_type": "execute_result"
    }
   ],
   "source": [
    "reduced_data.count()"
   ]
  },
  {
   "cell_type": "markdown",
   "id": "b405df98",
   "metadata": {},
   "source": [
    "### <u>Calculating Sillhoutte Score </u>"
   ]
  },
  {
   "cell_type": "code",
   "execution_count": 19,
   "id": "76c9a850",
   "metadata": {},
   "outputs": [
    {
     "name": "stdout",
     "output_type": "stream",
     "text": [
      "Calculating clusters with 4 dimensions.\n",
      "Calculating clusters with 3 dimensions.\n",
      "Calculating clusters with 2 dimensions.\n"
     ]
    },
    {
     "data": {
      "text/html": [
       "<div>\n",
       "<style scoped>\n",
       "    .dataframe tbody tr th:only-of-type {\n",
       "        vertical-align: middle;\n",
       "    }\n",
       "\n",
       "    .dataframe tbody tr th {\n",
       "        vertical-align: top;\n",
       "    }\n",
       "\n",
       "    .dataframe thead th {\n",
       "        text-align: right;\n",
       "    }\n",
       "</style>\n",
       "<table border=\"1\" class=\"dataframe\">\n",
       "  <thead>\n",
       "    <tr style=\"text-align: right;\">\n",
       "      <th></th>\n",
       "      <th>4 components</th>\n",
       "      <th>3 components</th>\n",
       "      <th>2 components</th>\n",
       "    </tr>\n",
       "  </thead>\n",
       "  <tbody>\n",
       "    <tr>\n",
       "      <th>Silhouette Score</th>\n",
       "      <td>0.371657</td>\n",
       "      <td>0.375684</td>\n",
       "      <td>0.451344</td>\n",
       "    </tr>\n",
       "  </tbody>\n",
       "</table>\n",
       "</div>"
      ],
      "text/plain": [
       "                  4 components  3 components  2 components\n",
       "Silhouette Score      0.371657      0.375684      0.451344"
      ]
     },
     "execution_count": 19,
     "metadata": {},
     "output_type": "execute_result"
    }
   ],
   "source": [
    "from sklearn import mixture\n",
    "from sklearn.metrics import silhouette_score\n",
    "\n",
    "score_list = []\n",
    "score_columns = []\n",
    "preds = {}\n",
    "centers = {}\n",
    "sample_preds = {}\n",
    "\n",
    "for n in range(4,1,-1):\n",
    "    print (\"Calculating clusters with {} dimensions.\".format(n))\n",
    "    clusterer = mixture.GaussianMixture(n_components=n)\n",
    "    # Future\n",
    "    # clusterer = mixture.GaussianMixture(n_components=n)\n",
    "    clusterer.fit(reduced_data)\n",
    "\n",
    "    preds[n] = clusterer.predict(reduced_data)\n",
    "    centers[n] = clusterer.means_\n",
    "    score = silhouette_score(reduced_data, preds[n], metric='euclidean')\n",
    "    score_list.append(score)\n",
    "    score_columns.append(str(n) + \" components\")\n",
    "\n",
    "score_list = pd.DataFrame(data=[score_list],columns=score_columns, index=['Silhouette Score'])\n",
    "score_list"
   ]
  },
  {
   "cell_type": "markdown",
   "id": "fee744a1",
   "metadata": {},
   "source": [
    "## <b><center><u> 11.2D and 3D VISUALIZATIONS"
   ]
  },
  {
   "cell_type": "code",
   "execution_count": 20,
   "id": "41dc6e9d",
   "metadata": {},
   "outputs": [],
   "source": [
    "def cluster_results(reduced_data, preds, centers):\n",
    "    predictions = pd.DataFrame(preds, columns = ['Cluster'])\n",
    "    plot_data = pd.concat([predictions, reduced_data], axis = 1)\n",
    "\n",
    "    # Generate the cluster plot\n",
    "    fig, ax = plt.subplots(figsize = (10,5))\n",
    "\n",
    "    # Color map\n",
    "    cmap = cm.get_cmap('gist_rainbow')\n",
    "\n",
    "    # Color the points based on assigned cluster\n",
    "    for i, cluster in plot_data.groupby('Cluster'):   \n",
    "        cluster.plot(ax = ax, kind = 'scatter', x = 'Dimension 1', y = 'Dimension 2', \\\n",
    "                     color = cmap((i)*1.0/(len(centers)-1)), label = 'Cluster %i'%(i), s=30);\n",
    "\n",
    "    # Plot centers with indicators\n",
    "    for i, c in enumerate(centers):\n",
    "        ax.scatter(x = c[0], y = c[1], color = 'white', edgecolors = 'black', \\\n",
    "                   alpha = 1, linewidth = 2, marker = 'o', s=200);\n",
    "        ax.scatter(x = c[0], y = c[1], marker='$%d$'%(i), alpha = 1, s=100);\n",
    "\n",
    "    # Set plot title\n",
    "    #plt.legend(loc='upper left', numpoints=1, ncol=4, fontsize=12, bbox_to_anchor=(0, 0))\n",
    "    ax.set_title(\"Cluster Learning on PCA-Reduced Data - Centroids Marked by Number\",\n",
    "                 fontsize = 14)"
   ]
  },
  {
   "cell_type": "code",
   "execution_count": 21,
   "id": "04436190",
   "metadata": {},
   "outputs": [],
   "source": [
    "def cluster_results_3d(reduced_data, preds, centers):\n",
    "    from mpl_toolkits.mplot3d import Axes3D\n",
    "    \n",
    "    predictions = pd.DataFrame(preds, columns = ['Cluster'])\n",
    "    plot_data = pd.concat([predictions, reduced_data], axis = 1)\n",
    "    cmap = cm.get_cmap('gist_rainbow')\n",
    "    \n",
    "    fig = plt.figure(figsize = (20,10))\n",
    "    ax = fig.add_subplot(111, projection='3d')\n",
    "    ax2 = fig.add_subplot(111, projection='3d')\n",
    "\n",
    "    fig = fig.gca(projection='3d')\n",
    "\n",
    "    for i, c in enumerate(centers):\n",
    "        ax2.scatter(c[0], c[1], c[2], color = 'white', edgecolors = 'black', \\\n",
    "                   alpha = 1, linewidth = 2, marker = 'o', s=200,\n",
    "                   zorder=1);\n",
    "        ax2.scatter(c[0], c[1], c[2], marker='$%d$'%(i), alpha = 1, s=100,\n",
    "                   zorder=1);\n",
    "        \n",
    "    for i, cluster in plot_data.groupby('Cluster'):   \n",
    "        ax2.scatter(cluster['Dimension 1'], cluster['Dimension 2'], cluster['Dimension 3'],\n",
    "                   c = cmap((i)*1.0/(len(centers)-1)), alpha=0.2,\n",
    "                   label = 'Cluster %i'%(i), s=20,\n",
    "                   zorder=.5)\n",
    "\n",
    "    fig.set_xlabel('Dimension 1')\n",
    "    fig.set_ylabel('Dimension 2')\n",
    "    fig.set_zlabel('Dimension 3')\n",
    "    plt.legend(loc='upper left', numpoints=1, ncol=4, fontsize=12, bbox_to_anchor=(0, 0))\n",
    "    ax2.set_title(\"Cluster Learning on PCA-Reduced Data 3D Plot\",\n",
    "                 fontsize = 14);\n",
    "    plt.show()"
   ]
  },
  {
   "cell_type": "markdown",
   "id": "6d128024",
   "metadata": {},
   "source": [
    "### <u> Visualizing cluster results </u>"
   ]
  },
  {
   "cell_type": "code",
   "execution_count": 22,
   "id": "43e60ba8",
   "metadata": {},
   "outputs": [],
   "source": [
    " from matplotlib.axes._axes import _log as matplotlib_axes_logger\n",
    " matplotlib_axes_logger.setLevel('ERROR')"
   ]
  },
  {
   "cell_type": "code",
   "execution_count": 23,
   "id": "843fb204",
   "metadata": {},
   "outputs": [
    {
     "data": {
      "image/png": "[encoded data removed]",
      "text/plain": [
       "<Figure size 720x360 with 1 Axes>"
      ]
     },
     "metadata": {
      "needs_background": "light"
     },
     "output_type": "display_data"
    }
   ],
   "source": [
    "# with preds[n] and centers[n] where n is the number of Dimensions\n",
    "no_clusters = 4\n",
    "cluster_results(reduced_data, preds[no_clusters], centers[no_clusters])"
   ]
  },
  {
   "cell_type": "code",
   "execution_count": 24,
   "id": "a3808a06",
   "metadata": {},
   "outputs": [
    {
     "data": {
      "image/png": "[encoded data removed]",
      "text/plain": [
       "<Figure size 1440x720 with 2 Axes>"
      ]
     },
     "metadata": {
      "needs_background": "light"
     },
     "output_type": "display_data"
    }
   ],
   "source": [
    "cluster_results_3d(reduced_data, preds[no_clusters], centers[no_clusters])"
   ]
  },
  {
   "cell_type": "code",
   "execution_count": 25,
   "id": "1a700767",
   "metadata": {},
   "outputs": [],
   "source": [
    "SemiSup_X=X\n",
    "SemiSup_y=y"
   ]
  },
  {
   "cell_type": "code",
   "execution_count": 37,
   "id": "ae0c0218",
   "metadata": {},
   "outputs": [],
   "source": [
    "predictions = pd.DataFrame(preds[no_clusters], columns = ['Cluster'])\n",
    "SemiSup_X['customer_cluster'] = predictions"
   ]
  },
  {
   "cell_type": "code",
   "execution_count": 38,
   "id": "14dfbb5e",
   "metadata": {
    "scrolled": true
   },
   "outputs": [
    {
     "data": {
      "text/plain": [
       "amt                        300000\n",
       "zip                        300000\n",
       "lat                        300000\n",
       "long                       300000\n",
       "city_pop                   300000\n",
       "merch_lat                  300000\n",
       "merch_long                 300000\n",
       "age                        300000\n",
       "hour                       300000\n",
       "day                        300000\n",
       "month                      300000\n",
       "category_food_dining       300000\n",
       "category_gas_transport     300000\n",
       "category_grocery_net       300000\n",
       "category_grocery_pos       300000\n",
       "category_health_fitness    300000\n",
       "category_home              300000\n",
       "category_kids_pets         300000\n",
       "category_misc_net          300000\n",
       "category_misc_pos          300000\n",
       "category_personal_care     300000\n",
       "category_shopping_net      300000\n",
       "category_shopping_pos      300000\n",
       "category_travel            300000\n",
       "customer_cluster           300000\n",
       "dtype: int64"
      ]
     },
     "execution_count": 38,
     "metadata": {},
     "output_type": "execute_result"
    }
   ],
   "source": [
    "SemiSup_X.count()"
   ]
  },
  {
   "cell_type": "code",
   "execution_count": 39,
   "id": "c10e91d2",
   "metadata": {},
   "outputs": [
    {
     "data": {
      "text/plain": [
       "300000"
      ]
     },
     "execution_count": 39,
     "metadata": {},
     "output_type": "execute_result"
    }
   ],
   "source": [
    "SemiSup_y.count()"
   ]
  },
  {
   "cell_type": "markdown",
   "id": "6e040fe3",
   "metadata": {},
   "source": [
    "### <b><u> Checking for Imbalance in target value:"
   ]
  },
  {
   "cell_type": "code",
   "execution_count": 40,
   "id": "1cb79475",
   "metadata": {},
   "outputs": [
    {
     "data": {
      "text/plain": [
       "0    298444\n",
       "1      1556\n",
       "Name: is_fraud, dtype: int64"
      ]
     },
     "execution_count": 40,
     "metadata": {},
     "output_type": "execute_result"
    }
   ],
   "source": [
    "SemiSup_y.value_counts()"
   ]
  },
  {
   "cell_type": "markdown",
   "id": "5664f4be",
   "metadata": {},
   "source": [
    "Since there is a huge imbalance in is_fraud , SMOTE will be used to correct the imbalance"
   ]
  },
  {
   "cell_type": "code",
   "execution_count": 41,
   "id": "dd5f6c9d",
   "metadata": {},
   "outputs": [],
   "source": [
    "from imblearn.over_sampling import SMOTE\n",
    "method= SMOTE(random_state=0)\n",
    "X,y= method.fit_resample(SemiSup_X, SemiSup_y)"
   ]
  },
  {
   "cell_type": "code",
   "execution_count": 42,
   "id": "eb4ca162",
   "metadata": {},
   "outputs": [
    {
     "data": {
      "text/plain": [
       "0    298444\n",
       "1    298444\n",
       "Name: is_fraud, dtype: int64"
      ]
     },
     "execution_count": 42,
     "metadata": {},
     "output_type": "execute_result"
    }
   ],
   "source": [
    "y.value_counts()"
   ]
  },
  {
   "cell_type": "markdown",
   "id": "1d141be7",
   "metadata": {},
   "source": [
    "The imbalance is now fixed, this data will be now split into train and test sets."
   ]
  },
  {
   "cell_type": "code",
   "execution_count": 43,
   "id": "058e1ea9",
   "metadata": {},
   "outputs": [],
   "source": [
    "# Let's keep 20 % of the data for testing purposes\n",
    "test_size = .20\n",
    "random_state = 42\n",
    "# Use for testing later and don't touch: X_test_base / y_test_base\n",
    "X_train, X_test, y_train, y_test = cross_validation.train_test_split(\n",
    "    X,y, test_size = test_size, random_state = random_state)"
   ]
  },
  {
   "cell_type": "code",
   "execution_count": 44,
   "id": "09f92246",
   "metadata": {},
   "outputs": [
    {
     "data": {
      "text/plain": [
       "(477510, 25)"
      ]
     },
     "execution_count": 44,
     "metadata": {},
     "output_type": "execute_result"
    }
   ],
   "source": [
    "X_train.shape"
   ]
  },
  {
   "cell_type": "code",
   "execution_count": 45,
   "id": "13a3b302",
   "metadata": {},
   "outputs": [
    {
     "data": {
      "text/plain": [
       "(119378, 25)"
      ]
     },
     "execution_count": 45,
     "metadata": {},
     "output_type": "execute_result"
    }
   ],
   "source": [
    "X_test.shape"
   ]
  },
  {
   "cell_type": "code",
   "execution_count": 46,
   "id": "7cb79a18",
   "metadata": {},
   "outputs": [
    {
     "data": {
      "text/html": [
       "<div>\n",
       "<style scoped>\n",
       "    .dataframe tbody tr th:only-of-type {\n",
       "        vertical-align: middle;\n",
       "    }\n",
       "\n",
       "    .dataframe tbody tr th {\n",
       "        vertical-align: top;\n",
       "    }\n",
       "\n",
       "    .dataframe thead th {\n",
       "        text-align: right;\n",
       "    }\n",
       "</style>\n",
       "<table border=\"1\" class=\"dataframe\">\n",
       "  <thead>\n",
       "    <tr style=\"text-align: right;\">\n",
       "      <th></th>\n",
       "      <th>amt</th>\n",
       "      <th>zip</th>\n",
       "      <th>lat</th>\n",
       "      <th>long</th>\n",
       "      <th>city_pop</th>\n",
       "      <th>merch_lat</th>\n",
       "      <th>merch_long</th>\n",
       "      <th>age</th>\n",
       "      <th>hour</th>\n",
       "      <th>day</th>\n",
       "      <th>...</th>\n",
       "      <th>category_health_fitness</th>\n",
       "      <th>category_home</th>\n",
       "      <th>category_kids_pets</th>\n",
       "      <th>category_misc_net</th>\n",
       "      <th>category_misc_pos</th>\n",
       "      <th>category_personal_care</th>\n",
       "      <th>category_shopping_net</th>\n",
       "      <th>category_shopping_pos</th>\n",
       "      <th>category_travel</th>\n",
       "      <th>customer_cluster</th>\n",
       "    </tr>\n",
       "  </thead>\n",
       "  <tbody>\n",
       "    <tr>\n",
       "      <th>336081</th>\n",
       "      <td>901.05717</td>\n",
       "      <td>5121</td>\n",
       "      <td>43.428996</td>\n",
       "      <td>-72.658996</td>\n",
       "      <td>503</td>\n",
       "      <td>43.703686</td>\n",
       "      <td>-71.745641</td>\n",
       "      <td>49</td>\n",
       "      <td>22</td>\n",
       "      <td>4</td>\n",
       "      <td>...</td>\n",
       "      <td>0</td>\n",
       "      <td>0</td>\n",
       "      <td>0</td>\n",
       "      <td>0</td>\n",
       "      <td>0</td>\n",
       "      <td>0</td>\n",
       "      <td>0</td>\n",
       "      <td>0</td>\n",
       "      <td>0</td>\n",
       "      <td>1</td>\n",
       "    </tr>\n",
       "    <tr>\n",
       "      <th>201315</th>\n",
       "      <td>90.19000</td>\n",
       "      <td>10039</td>\n",
       "      <td>40.826500</td>\n",
       "      <td>-73.938300</td>\n",
       "      <td>1577385</td>\n",
       "      <td>40.273465</td>\n",
       "      <td>-74.312275</td>\n",
       "      <td>41</td>\n",
       "      <td>19</td>\n",
       "      <td>5</td>\n",
       "      <td>...</td>\n",
       "      <td>0</td>\n",
       "      <td>0</td>\n",
       "      <td>0</td>\n",
       "      <td>0</td>\n",
       "      <td>0</td>\n",
       "      <td>0</td>\n",
       "      <td>1</td>\n",
       "      <td>0</td>\n",
       "      <td>0</td>\n",
       "      <td>1</td>\n",
       "    </tr>\n",
       "    <tr>\n",
       "      <th>241948</th>\n",
       "      <td>156.96000</td>\n",
       "      <td>93552</td>\n",
       "      <td>34.571500</td>\n",
       "      <td>-118.023100</td>\n",
       "      <td>171170</td>\n",
       "      <td>34.813368</td>\n",
       "      <td>-118.643091</td>\n",
       "      <td>59</td>\n",
       "      <td>19</td>\n",
       "      <td>5</td>\n",
       "      <td>...</td>\n",
       "      <td>0</td>\n",
       "      <td>0</td>\n",
       "      <td>1</td>\n",
       "      <td>0</td>\n",
       "      <td>0</td>\n",
       "      <td>0</td>\n",
       "      <td>0</td>\n",
       "      <td>0</td>\n",
       "      <td>0</td>\n",
       "      <td>3</td>\n",
       "    </tr>\n",
       "    <tr>\n",
       "      <th>47915</th>\n",
       "      <td>89.72000</td>\n",
       "      <td>80736</td>\n",
       "      <td>40.769200</td>\n",
       "      <td>-103.096800</td>\n",
       "      <td>648</td>\n",
       "      <td>40.869422</td>\n",
       "      <td>-103.765600</td>\n",
       "      <td>53</td>\n",
       "      <td>12</td>\n",
       "      <td>0</td>\n",
       "      <td>...</td>\n",
       "      <td>0</td>\n",
       "      <td>0</td>\n",
       "      <td>0</td>\n",
       "      <td>0</td>\n",
       "      <td>0</td>\n",
       "      <td>0</td>\n",
       "      <td>0</td>\n",
       "      <td>0</td>\n",
       "      <td>0</td>\n",
       "      <td>0</td>\n",
       "    </tr>\n",
       "    <tr>\n",
       "      <th>161274</th>\n",
       "      <td>23.71000</td>\n",
       "      <td>35022</td>\n",
       "      <td>33.322400</td>\n",
       "      <td>-86.965700</td>\n",
       "      <td>71463</td>\n",
       "      <td>33.694424</td>\n",
       "      <td>-87.052184</td>\n",
       "      <td>33</td>\n",
       "      <td>12</td>\n",
       "      <td>4</td>\n",
       "      <td>...</td>\n",
       "      <td>0</td>\n",
       "      <td>0</td>\n",
       "      <td>0</td>\n",
       "      <td>0</td>\n",
       "      <td>0</td>\n",
       "      <td>0</td>\n",
       "      <td>0</td>\n",
       "      <td>0</td>\n",
       "      <td>0</td>\n",
       "      <td>3</td>\n",
       "    </tr>\n",
       "  </tbody>\n",
       "</table>\n",
       "<p>5 rows × 25 columns</p>\n",
       "</div>"
      ],
      "text/plain": [
       "              amt    zip        lat        long  city_pop  merch_lat  \\\n",
       "336081  901.05717   5121  43.428996  -72.658996       503  43.703686   \n",
       "201315   90.19000  10039  40.826500  -73.938300   1577385  40.273465   \n",
       "241948  156.96000  93552  34.571500 -118.023100    171170  34.813368   \n",
       "47915    89.72000  80736  40.769200 -103.096800       648  40.869422   \n",
       "161274   23.71000  35022  33.322400  -86.965700     71463  33.694424   \n",
       "\n",
       "        merch_long  age  hour  day  ...  category_health_fitness  \\\n",
       "336081  -71.745641   49    22    4  ...                        0   \n",
       "201315  -74.312275   41    19    5  ...                        0   \n",
       "241948 -118.643091   59    19    5  ...                        0   \n",
       "47915  -103.765600   53    12    0  ...                        0   \n",
       "161274  -87.052184   33    12    4  ...                        0   \n",
       "\n",
       "        category_home  category_kids_pets  category_misc_net  \\\n",
       "336081              0                   0                  0   \n",
       "201315              0                   0                  0   \n",
       "241948              0                   1                  0   \n",
       "47915               0                   0                  0   \n",
       "161274              0                   0                  0   \n",
       "\n",
       "        category_misc_pos  category_personal_care  category_shopping_net  \\\n",
       "336081                  0                       0                      0   \n",
       "201315                  0                       0                      1   \n",
       "241948                  0                       0                      0   \n",
       "47915                   0                       0                      0   \n",
       "161274                  0                       0                      0   \n",
       "\n",
       "        category_shopping_pos  category_travel  customer_cluster  \n",
       "336081                      0                0                 1  \n",
       "201315                      0                0                 1  \n",
       "241948                      0                0                 3  \n",
       "47915                       0                0                 0  \n",
       "161274                      0                0                 3  \n",
       "\n",
       "[5 rows x 25 columns]"
      ]
     },
     "execution_count": 46,
     "metadata": {},
     "output_type": "execute_result"
    }
   ],
   "source": [
    "X_train.head()"
   ]
  },
  {
   "cell_type": "markdown",
   "id": "3916f8e7",
   "metadata": {},
   "source": [
    "## <CENTER><U> 8. BUILDING MODELS AND GENERATING PREDICTIONS</CENTER></U>"
   ]
  },
  {
   "cell_type": "code",
   "execution_count": 47,
   "id": "2579a415",
   "metadata": {},
   "outputs": [
    {
     "name": "stdout",
     "output_type": "stream",
     "text": [
      "Training and Testing  LinearSVC ...\n",
      "Average CV performance for LinearSVC: 0.745764 (in 114.129 seconds)\n",
      "Training and Testing  LogisticRegression ...\n",
      "Average CV performance for LogisticRegression: 0.870655 (in 3.62743 seconds)\n",
      "Training and Testing  DecisionTreeClassifier ...\n",
      "Average CV performance for DecisionTreeClassifier: 0.983246 (in 9.66561 seconds)\n",
      "Training and Testing  RandomForestClassifier ...\n",
      "Average CV performance for RandomForestClassifier: 0.992813 (in 107.466 seconds)\n",
      "Training and Testing  GaussianNB ...\n",
      "Average CV performance for GaussianNB: 0.842408 (in 0.489584 seconds)\n",
      "Training and Testing  KNeighborsClassifier ...\n",
      "Average CV performance for KNeighborsClassifier: 0.967783 (in 166.129 seconds)\n"
     ]
    }
   ],
   "source": [
    "cfd_dict_base = {}\n",
    "cfd_report_base = []\n",
    "cfd_feature_relevance_base = []\n",
    "for cfd in [LinearSVC(random_state = random_state),\n",
    "            LogisticRegression(random_state = random_state),\n",
    "            DecisionTreeClassifier(random_state = random_state),\n",
    "            RandomForestClassifier(random_state = random_state),\n",
    "            GaussianNB(),\n",
    "            KNeighborsClassifier(n_neighbors = 3)]:\n",
    "    # Extract name of estimator\n",
    "    cfd_name = cfd.__class__.__name__\n",
    "    print (\"Training and Testing \", cfd_name, \"...\")\n",
    "    # Fit model on training data\n",
    "    cfd_dict_base[cfd_name] = cfd.fit(X_train, y_train)\n",
    "    # Predict based on it\n",
    "    # y_pred = clf.predict(X_train)\n",
    "    \n",
    "    # Perform cross validation\n",
    "    start = time()\n",
    "    X_s, y_s = shuffle(X_test, y_test)\n",
    "    scores = cross_validation.cross_val_score(cfd, X_s, y_s, cv=5, scoring='accuracy')\n",
    "    end = time()\n",
    "    duration = end - start\n",
    "    print (\"Average CV performance for {}: {:.6} (in {:.6} seconds)\".format(cfd_name, scores.mean(), duration))\n",
    "    cfd_report_base.append([cfd_name, scores.mean(), duration])\n",
    "\n",
    "    # Sample Store feature relevance information \n",
    "    if cfd_name in [\"RandomForestClassifier\", \"DecisionTreeClassifier\"]:\n",
    "        cfd_feature_relevance_base.append(cfd.feature_importances_.tolist())\n",
    "    elif cfd_name == \"LinearSVC\":\n",
    "        cfd_feature_relevance_base.append(cfd.coef_[0].tolist())\n",
    "# Store information in list for better visibility\n",
    "cfd_report_base = pd.DataFrame(cfd_report_base, columns=['classifier', 'Train_accuracy', 'Train_time'])"
   ]
  },
  {
   "cell_type": "code",
   "execution_count": 48,
   "id": "5c2927e4",
   "metadata": {
    "scrolled": true
   },
   "outputs": [
    {
     "data": {
      "text/html": [
       "<div>\n",
       "<style scoped>\n",
       "    .dataframe tbody tr th:only-of-type {\n",
       "        vertical-align: middle;\n",
       "    }\n",
       "\n",
       "    .dataframe tbody tr th {\n",
       "        vertical-align: top;\n",
       "    }\n",
       "\n",
       "    .dataframe thead th {\n",
       "        text-align: right;\n",
       "    }\n",
       "</style>\n",
       "<table border=\"1\" class=\"dataframe\">\n",
       "  <thead>\n",
       "    <tr style=\"text-align: right;\">\n",
       "      <th></th>\n",
       "      <th>classifier</th>\n",
       "      <th>Train_accuracy</th>\n",
       "      <th>Train_time</th>\n",
       "    </tr>\n",
       "  </thead>\n",
       "  <tbody>\n",
       "    <tr>\n",
       "      <th>0</th>\n",
       "      <td>LinearSVC</td>\n",
       "      <td>0.745764</td>\n",
       "      <td>114.128689</td>\n",
       "    </tr>\n",
       "    <tr>\n",
       "      <th>1</th>\n",
       "      <td>LogisticRegression</td>\n",
       "      <td>0.870655</td>\n",
       "      <td>3.627432</td>\n",
       "    </tr>\n",
       "    <tr>\n",
       "      <th>2</th>\n",
       "      <td>DecisionTreeClassifier</td>\n",
       "      <td>0.983246</td>\n",
       "      <td>9.665615</td>\n",
       "    </tr>\n",
       "    <tr>\n",
       "      <th>3</th>\n",
       "      <td>RandomForestClassifier</td>\n",
       "      <td>0.992813</td>\n",
       "      <td>107.466418</td>\n",
       "    </tr>\n",
       "    <tr>\n",
       "      <th>4</th>\n",
       "      <td>GaussianNB</td>\n",
       "      <td>0.842408</td>\n",
       "      <td>0.489584</td>\n",
       "    </tr>\n",
       "    <tr>\n",
       "      <th>5</th>\n",
       "      <td>KNeighborsClassifier</td>\n",
       "      <td>0.967783</td>\n",
       "      <td>166.128751</td>\n",
       "    </tr>\n",
       "  </tbody>\n",
       "</table>\n",
       "</div>"
      ],
      "text/plain": [
       "               classifier  Train_accuracy  Train_time\n",
       "0               LinearSVC        0.745764  114.128689\n",
       "1      LogisticRegression        0.870655    3.627432\n",
       "2  DecisionTreeClassifier        0.983246    9.665615\n",
       "3  RandomForestClassifier        0.992813  107.466418\n",
       "4              GaussianNB        0.842408    0.489584\n",
       "5    KNeighborsClassifier        0.967783  166.128751"
      ]
     },
     "execution_count": 48,
     "metadata": {},
     "output_type": "execute_result"
    }
   ],
   "source": [
    "cfd_report_base"
   ]
  },
  {
   "cell_type": "markdown",
   "id": "5f436ed6",
   "metadata": {},
   "source": [
    "Random Forest and decision tree appears to be overfitted Hence reducing the tree depth and passing through bagging classifier to reduce the overfitting"
   ]
  },
  {
   "cell_type": "markdown",
   "id": "0dbd895c",
   "metadata": {},
   "source": [
    "### <b><U> BAGGING:"
   ]
  },
  {
   "cell_type": "markdown",
   "id": "d256c92a",
   "metadata": {},
   "source": [
    "#### <B>RANDOM FOREST:"
   ]
  },
  {
   "cell_type": "code",
   "execution_count": 49,
   "id": "c6cf0937",
   "metadata": {},
   "outputs": [],
   "source": [
    "rf = RandomForestClassifier(max_depth=10)   ## Random Forest Classifier \n",
    "bag_clf_rf = BaggingClassifier(base_estimator=rf,\n",
    "                            bootstrap=True, n_jobs=-1,\n",
    "                            random_state=42)"
   ]
  },
  {
   "cell_type": "code",
   "execution_count": 50,
   "id": "4ba2c792",
   "metadata": {},
   "outputs": [
    {
     "data": {
      "text/plain": [
       "(0.9272852924546083, 0.926368342575684)"
      ]
     },
     "execution_count": 50,
     "metadata": {},
     "output_type": "execute_result"
    }
   ],
   "source": [
    "bag_clf_rf.fit(X_train, y_train)\n",
    "bag_clf_rf.score(X_train,y_train),bag_clf_rf.score(X_test,y_test)     ## Score train and test data"
   ]
  },
  {
   "cell_type": "code",
   "execution_count": 51,
   "id": "38b05735",
   "metadata": {},
   "outputs": [
    {
     "name": "stdout",
     "output_type": "stream",
     "text": [
      "0.926368342575684\n"
     ]
    }
   ],
   "source": [
    "y_pred1 = bag_clf_rf.predict(X_test)\n",
    "from sklearn.metrics import accuracy_score\n",
    "print(accuracy_score(y_test, y_pred1)) ## Accuracy of the prediction data "
   ]
  },
  {
   "cell_type": "markdown",
   "id": "68a63446",
   "metadata": {},
   "source": [
    "#### DECISION TREE:"
   ]
  },
  {
   "cell_type": "code",
   "execution_count": 52,
   "id": "2ff11d1d",
   "metadata": {},
   "outputs": [],
   "source": [
    "df = DecisionTreeClassifier(max_depth=10)   ## Random Forest Classifier\n",
    "bag_clf_df = BaggingClassifier(base_estimator=df,\n",
    "                            bootstrap=True, n_jobs=-1,\n",
    "                            random_state=42)"
   ]
  },
  {
   "cell_type": "code",
   "execution_count": 53,
   "id": "aa3f32f0",
   "metadata": {},
   "outputs": [
    {
     "data": {
      "text/plain": [
       "(0.9364222738790811, 0.9356079009532745)"
      ]
     },
     "execution_count": 53,
     "metadata": {},
     "output_type": "execute_result"
    }
   ],
   "source": [
    "bag_clf_df.fit(X_train, y_train)\n",
    "bag_clf_df.score(X_train,y_train),bag_clf_df.score(X_test,y_test)     ## Score train and test data"
   ]
  },
  {
   "cell_type": "code",
   "execution_count": 54,
   "id": "01842403",
   "metadata": {},
   "outputs": [
    {
     "name": "stdout",
     "output_type": "stream",
     "text": [
      "0.9356079009532745\n"
     ]
    }
   ],
   "source": [
    "y_pred1 = bag_clf_df.predict(X_test)\n",
    "from sklearn.metrics import accuracy_score\n",
    "print(accuracy_score(y_test, y_pred1)) ## Accuracy of the prediction data "
   ]
  },
  {
   "cell_type": "markdown",
   "id": "bcb43ded",
   "metadata": {},
   "source": [
    "## <B><U><CENTER> 9. ROC CURVE ANALYSIS - SUPERVISED MODELS"
   ]
  },
  {
   "cell_type": "code",
   "execution_count": 55,
   "id": "92c4e3a9",
   "metadata": {},
   "outputs": [],
   "source": [
    "# Import the classifiers\n",
    "from sklearn.linear_model import LogisticRegression\n",
    "from sklearn.tree import DecisionTreeClassifier\n",
    "from sklearn.ensemble import RandomForestClassifier\n",
    "from sklearn.svm import LinearSVC, SVC\n",
    "from sklearn.metrics import roc_curve, roc_auc_score\n",
    "from sklearn.calibration import CalibratedClassifierCV\n",
    "from sklearn.neighbors import KNeighborsClassifier\n",
    "from sklearn.naive_bayes import GaussianNB"
   ]
  },
  {
   "cell_type": "code",
   "execution_count": 56,
   "id": "eefd4edf",
   "metadata": {},
   "outputs": [
    {
     "name": "stdout",
     "output_type": "stream",
     "text": [
      "Training and Testing  LogisticRegression(random_state=42) ...\n",
      "Training and Testing  DecisionTreeClassifier(max_depth=8, random_state=42) ...\n",
      "Training and Testing  RandomForestClassifier(max_depth=8, random_state=42) ...\n",
      "Training and Testing  LinearSVC(random_state=42) ...\n",
      "Training and Testing  GaussianNB() ...\n"
     ]
    }
   ],
   "source": [
    "# Instantiate the classfiers and make a list\n",
    "classifiers = [LogisticRegression(random_state=42), \n",
    "               DecisionTreeClassifier(max_depth=8,random_state=42),\n",
    "               RandomForestClassifier(max_depth=8,random_state=42),\n",
    "               LinearSVC(random_state=42),\n",
    "               GaussianNB(),\n",
    "               #KNeighborsClassifier(n_neighbors = 3)\n",
    "              ]\n",
    "\n",
    "# Define a result table as a DataFrame\n",
    "result_table = pd.DataFrame(columns=['classifiers', 'fpr','tpr','auc'])\n",
    "\n",
    "# Train the models and record the results\n",
    "for cls in classifiers:\n",
    "    print (\"Training and Testing \", cls, \"...\")\n",
    "    clf = CalibratedClassifierCV(cls)\n",
    "    model = clf.fit(X_train, y_train)\n",
    "    yproba = model.predict_proba(X_test)[::,1]\n",
    "    \n",
    "    fpr, tpr, _ = roc_curve(y_test,  yproba)\n",
    "    auc = roc_auc_score(y_test, yproba)\n",
    "    \n",
    "    result_table = result_table.append({'classifiers':cls.__class__.__name__,\n",
    "                                        'fpr':fpr, \n",
    "                                        'tpr':tpr, \n",
    "                                        'auc':auc}, ignore_index=True)\n",
    "    \n",
    "result_table.set_index('classifiers', inplace=True)\n",
    "#print(result_table)"
   ]
  },
  {
   "cell_type": "code",
   "execution_count": 57,
   "id": "cbcf97b2",
   "metadata": {},
   "outputs": [
    {
     "data": {
      "image/png": "[encoded data removed]",
      "text/plain": [
       "<Figure size 576x432 with 1 Axes>"
      ]
     },
     "metadata": {
      "needs_background": "light"
     },
     "output_type": "display_data"
    }
   ],
   "source": [
    "fig = plt.figure(figsize=(8,6))\n",
    "\n",
    "for i in result_table.index:\n",
    "    plt.plot(result_table.loc[i]['fpr'], \n",
    "             result_table.loc[i]['tpr'], \n",
    "             label=\"{}, AUC={:.3f}\".format(i, result_table.loc[i]['auc']))    \n",
    "plt.plot([0,1], [0,1], color='orange', linestyle='--')\n",
    "plt.xticks(np.arange(0.0, 1.1, step=0.1))\n",
    "plt.xlabel(\"False Positive Rate\", fontsize=15)\n",
    "plt.yticks(np.arange(0.0, 1.1, step=0.1))\n",
    "plt.ylabel(\"True Positive Rate\", fontsize=15)\n",
    "plt.title('ROC Curve Analysis', fontweight='bold', fontsize=15)\n",
    "plt.legend(prop={'size':13}, loc='lower right')\n",
    "plt.show()"
   ]
  },
  {
   "cell_type": "code",
   "execution_count": 60,
   "id": "7a546d22",
   "metadata": {
    "scrolled": false
   },
   "outputs": [
    {
     "data": {
      "text/html": [
       "<div>\n",
       "<style scoped>\n",
       "    .dataframe tbody tr th:only-of-type {\n",
       "        vertical-align: middle;\n",
       "    }\n",
       "\n",
       "    .dataframe tbody tr th {\n",
       "        vertical-align: top;\n",
       "    }\n",
       "\n",
       "    .dataframe thead th {\n",
       "        text-align: right;\n",
       "    }\n",
       "</style>\n",
       "<table border=\"1\" class=\"dataframe\">\n",
       "  <thead>\n",
       "    <tr style=\"text-align: right;\">\n",
       "      <th></th>\n",
       "      <th>auc</th>\n",
       "    </tr>\n",
       "    <tr>\n",
       "      <th>classifiers</th>\n",
       "      <th></th>\n",
       "    </tr>\n",
       "  </thead>\n",
       "  <tbody>\n",
       "    <tr>\n",
       "      <th>LogisticRegression</th>\n",
       "      <td>0.901737</td>\n",
       "    </tr>\n",
       "    <tr>\n",
       "      <th>DecisionTreeClassifier</th>\n",
       "      <td>0.969730</td>\n",
       "    </tr>\n",
       "    <tr>\n",
       "      <th>RandomForestClassifier</th>\n",
       "      <td>0.984112</td>\n",
       "    </tr>\n",
       "    <tr>\n",
       "      <th>LinearSVC</th>\n",
       "      <td>0.871891</td>\n",
       "    </tr>\n",
       "    <tr>\n",
       "      <th>GaussianNB</th>\n",
       "      <td>0.895900</td>\n",
       "    </tr>\n",
       "  </tbody>\n",
       "</table>\n",
       "</div>"
      ],
      "text/plain": [
       "                             auc\n",
       "classifiers                     \n",
       "LogisticRegression      0.901737\n",
       "DecisionTreeClassifier  0.969730\n",
       "RandomForestClassifier  0.984112\n",
       "LinearSVC               0.871891\n",
       "GaussianNB              0.895900"
      ]
     },
     "execution_count": 60,
     "metadata": {},
     "output_type": "execute_result"
    }
   ],
   "source": [
    "semisupervised_result=result_table.drop(result_table.columns[[0,1]], axis=1)\n",
    "semisupervised_result"
   ]
  },
  {
   "cell_type": "code",
   "execution_count": null,
   "id": "c7a3557d",
   "metadata": {},
   "outputs": [],
   "source": []
  },
  {
   "cell_type": "code",
   "execution_count": null,
   "id": "a953d634",
   "metadata": {},
   "outputs": [],
   "source": []
  },
  {
   "cell_type": "code",
   "execution_count": null,
   "id": "832a8c0b",
   "metadata": {},
   "outputs": [],
   "source": []
  }
 ],
 "metadata": {
  "kernelspec": {
   "display_name": "Python 3 (ipykernel)",
   "language": "python",
   "name": "python3"
  },
  "language_info": {
   "codemirror_mode": {
    "name": "ipython",
    "version": 3
   },
   "file_extension": ".py",
   "mimetype": "text/x-python",
   "name": "python",
   "nbconvert_exporter": "python",
   "pygments_lexer": "ipython3",
   "version": "3.9.7"
  }
 },
 "nbformat": 4,
 "nbformat_minor": 5
}
